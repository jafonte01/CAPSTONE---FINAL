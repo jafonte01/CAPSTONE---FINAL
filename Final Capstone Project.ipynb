{
 "cells": [
  {
   "cell_type": "markdown",
   "metadata": {},
   "source": [
    "# Animal and Vehicle Colored Image Classification\n",
    "## Final Capstone Project\n",
    "### John A. Fonte\n",
    "May 2019 <br>\n",
    "[Github](https://github.com/jafonte01)"
   ]
  },
  {
   "cell_type": "markdown",
   "metadata": {},
   "source": [
    "---\n",
    "---\n",
    "\n",
    "# Table of Contents\n",
    "\n",
    "1. Introduction\n",
    "    - Statement of Problem to be Solved\n",
    "    - Explanation of Dataset\n",
    "2. Load Image Data\n",
    "    - Perform any cleaning\n",
    "    - openCV\n",
    "<br><br>\n",
    "2. Data Exploration\n",
    "    - Visualization of Sample Datapoints\n",
    "<br><br>\n",
    "3. Data Preparation for Modeling\n",
    "    - Dimensionality reduction\n",
    "    - Use MLP Classifier to demonstrate dimensionality reduction effect\n",
    "<br><br>\n",
    "4. Unsupervised Learning\n",
    "    - Spectral Clustering\n",
    "    - t-SNE modeling and comparison to PCA results\n",
    "<br><br>\n",
    "5. Supervised Modeling\n",
    "    - Scaling introduced into modeling pipeline if not already done in Part 3\n",
    "    - Inclusion & Application of Autoencoding\n",
    "    - MLP Classifier\n",
    "    - Recurrent Neural Network\n",
    "    - Convolutional Neural Networks\n",
    "<br><br>\n",
    "6. Conclusion\n",
    "    - Final Analysis & Recommendations"
   ]
  },
  {
   "cell_type": "markdown",
   "metadata": {},
   "source": [
    "# 1. Introduction\n",
    "\n",
    "# Explanation of Dataset: \"CIFAR-10\"\n",
    "\n",
    "Introduction and Significance of Research\n",
    "Object detection, identification, and classification is an ever-growing task in the computer science industry. The applications of the inter-disciplinary field of so-called \"computer vision\" range from facial recognition to handwriting detection to automating censoring and redaction, not to mention the applicability of accurately indexing the innumerable amount of images on the internet.\n",
    "\n",
    "It is therefore of the utmost importance to create machine learning models that not only accurately classify objects, but to do so with optimized efficiency. This project aims to determine which models achieve these two goals of accuracy and efficiency.\n",
    "\n",
    "Proposed Data Source\n",
    "The proposed image dataset is one compiled from the Canadian Institute for Advanced Research, with the help of the University of Toronto's Computer Science Department. The dataset, called CIFAR-10, is an image classification dataset with 10 different classes - four are vehicles (airplane, automobile, ship, truck), and six are animals (bird, cat, deer, dog, frog, horse).*\n",
    "\n",
    "Image loading libraries such as Pillow (\"PIL\") and Pickle will be used to import the image data into the Python environment. Luckily, with great thanks to CIFAR, the images are all uniform 32 x 32 pixel pictures, making reshaping and resolution adjusting unnecessary. This will save significant time in skipping past cumbersome data cleaning work.\n",
    "\n",
    "http://www.cs.toronto.edu/~kriz/cifar.html CIFAR 10 and CIFAR 100\n"
   ]
  },
  {
   "cell_type": "code",
   "execution_count": 1,
   "metadata": {},
   "outputs": [],
   "source": [
    "def unpickle(file):\n",
    "    import pickle\n",
    "    with open(file, 'rb') as fo:\n",
    "        dict = pickle.load(fo, encoding='bytes')\n",
    "    return dict"
   ]
  },
  {
   "cell_type": "code",
   "execution_count": 3,
   "metadata": {},
   "outputs": [],
   "source": [
    "batch1 = unpickle('D:/Github/Data-Science-Bootcamp/CAPSTONE - FINAL/cifar-10-batches-py/data_batch_1')"
   ]
  },
  {
   "cell_type": "code",
   "execution_count": 4,
   "metadata": {},
   "outputs": [
    {
     "data": {
      "text/plain": [
       "dict_keys([b'batch_label', b'labels', b'data', b'filenames'])"
      ]
     },
     "execution_count": 4,
     "metadata": {},
     "output_type": "execute_result"
    }
   ],
   "source": [
    "batch1.keys()"
   ]
  },
  {
   "cell_type": "code",
   "execution_count": 13,
   "metadata": {},
   "outputs": [
    {
     "data": {
      "text/plain": [
       "array([[ 59,  43,  50, ..., 140,  84,  72],\n",
       "       [154, 126, 105, ..., 139, 142, 144],\n",
       "       [255, 253, 253, ...,  83,  83,  84],\n",
       "       ...,\n",
       "       [ 71,  60,  74, ...,  68,  69,  68],\n",
       "       [250, 254, 211, ..., 215, 255, 254],\n",
       "       [ 62,  61,  60, ..., 130, 130, 131]], dtype=uint8)"
      ]
     },
     "execution_count": 13,
     "metadata": {},
     "output_type": "execute_result"
    }
   ],
   "source": [
    "batch1.get(b'data')"
   ]
  },
  {
   "cell_type": "code",
   "execution_count": null,
   "metadata": {},
   "outputs": [],
   "source": []
  },
  {
   "cell_type": "code",
   "execution_count": null,
   "metadata": {},
   "outputs": [],
   "source": [
    "https://www.analyticsvidhya.com/blog/2018/03/comprehensive-collection-deep-learning-datasets/\n",
    "    \n",
    "    sklearn MLP (deep feed-forward)\n",
    "    convolutional \n",
    "    recurrent\n",
    "    \n",
    "    https://www.kaggle.com/hamishdickson/preprocessing-images-with-dimensionality-reduction\n",
    "    \n",
    "    \n",
    "    https://idyll.pub/post/dimensionality-reduction-293e465c2a3443e8941b016d/\n",
    "    \n",
    "    # you need to do unsupervised learning ---- look under the \"clustering\"\n",
    "    # section to see clustering of images, and sampling the clustering\n",
    "    #spectral clustering is good for image clustering as well....\n",
    "    \n",
    "    https://www.datacamp.com/community/tutorials/machine-learning-python\n",
    "    \n",
    "    # Import matplotlib\n",
    "import matplotlib.pyplot as plt\n",
    "\n",
    "# Figure size in inches\n",
    "fig = plt.figure(figsize=(8, 3))\n",
    "\n",
    "# Add title\n",
    "fig.suptitle('Cluster Center Images', fontsize=14, fontweight='bold')\n",
    "\n",
    "# For all labels (0-9)\n",
    "for i in range(10):\n",
    "    # Initialize subplots in a grid of 2X5, at i+1th position\n",
    "    ax = fig.add_subplot(2, 5, 1 + i)\n",
    "    # Display images\n",
    "    ax.imshow(clf.cluster_centers_[i].reshape((8, 8)), cmap=plt.cm.binary)\n",
    "    # Don't show the axes\n",
    "    plt.axis('off')"
   ]
  },
  {
   "cell_type": "code",
   "execution_count": null,
   "metadata": {},
   "outputs": [],
   "source": [
    "# more visualization - look into: isomap, lle, t-sne, kernel_PCA\n",
    "\n",
    "\n",
    "# Import `Isomap()`\n",
    "from sklearn.manifold import Isomap\n",
    "\n",
    "# Create an isomap and fit the `digits` data to it\n",
    "X_iso = Isomap(n_neighbors=10).fit_transform(X_train)\n",
    "\n",
    "# Compute cluster centers and predict cluster index for each sample\n",
    "clusters = clf.fit_predict(X_train)\n",
    "\n",
    "# Create a plot with subplots in a grid of 1X2\n",
    "fig, ax = plt.subplots(1, 2, figsize=(8, 4))\n",
    "\n",
    "# Adjust layout\n",
    "fig.suptitle('Predicted Versus Training Labels', fontsize=14, fontweight='bold')\n",
    "fig.subplots_adjust(top=0.85)\n",
    "\n",
    "# Add scatterplots to the subplots \n",
    "ax[0].scatter(X_iso[:, 0], X_iso[:, 1], c=clusters)\n",
    "ax[0].set_title('Predicted Training Labels')\n",
    "ax[1].scatter(X_iso[:, 0], X_iso[:, 1], c=y_train)\n",
    "ax[1].set_title('Actual Training Labels')\n",
    "\n",
    "# Show the plots\n",
    "plt.show()"
   ]
  }
 ],
 "metadata": {
  "kernelspec": {
   "display_name": "Python 3",
   "language": "python",
   "name": "python3"
  },
  "language_info": {
   "codemirror_mode": {
    "name": "ipython",
    "version": 3
   },
   "file_extension": ".py",
   "mimetype": "text/x-python",
   "name": "python",
   "nbconvert_exporter": "python",
   "pygments_lexer": "ipython3",
   "version": "3.7.1"
  }
 },
 "nbformat": 4,
 "nbformat_minor": 2
}
