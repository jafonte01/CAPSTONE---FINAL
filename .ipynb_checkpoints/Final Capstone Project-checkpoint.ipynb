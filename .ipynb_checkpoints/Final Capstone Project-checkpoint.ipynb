{
 "cells": [
  {
   "cell_type": "markdown",
   "metadata": {},
   "source": [
    "# The CIFAR-'110':\n",
    "## Image Superclass & Subclass Classification\n",
    "   \n",
    "> ### Final Capstone Project\n",
    "> ### John A. Fonte\n",
    "> __May 2019 <br>\n",
    "[Github](https://github.com/jafonte01)__"
   ]
  },
  {
   "cell_type": "markdown",
   "metadata": {},
   "source": [
    "# Table of Contents\n",
    "\n",
    "1. __Introduction__\n",
    "    - Significance of Research\n",
    "    - Statement of Problem to be Solved\n",
    "    - Explanation of Dataset\n",
    "<br><br>\n",
    "2. __Image Data Loading__\n",
    "    - Pixel-to-Dimension Array Transposition and additional cleaning/transformations\n",
    "    - Data batch load compilation, data class balancing\n",
    "    - DataFrame setup\n",
    "    - train/test split, data shuffling\n",
    "<br><br>\n",
    "2. __Data Exploration__\n",
    "    - Visualization of Sample Datapoints\n",
    "<br><br>\n",
    "3. __Data Preparation for Modeling__\n",
    "    - Dimensionality reduction\n",
    "    - Use MLP Classifier to demonstrate dimensionality reduction effect\n",
    "<br><br>\n",
    "4. __Unsupervised Learning__\n",
    "    - Spectral Clustering\n",
    "    - t-SNE modeling and comparison to PCA results\n",
    "<br><br>\n",
    "5. __Supervised Modeling__\n",
    "    - Scaling introduced into modeling pipeline if not already done in Part 3\n",
    "    - Inclusion & Application of Autoencoding\n",
    "    - MLP Classifier\n",
    "    - Random Forest\n",
    "    - Recurrent Neural Network\n",
    "    - Convolutional Neural Networks\n",
    "<br><br>\n",
    "6. __Conclusion__\n",
    "    - Final Analysis & Recommendations"
   ]
  },
  {
   "cell_type": "markdown",
   "metadata": {},
   "source": [
    "---\n",
    "---\n",
    "# 1. Introduction\n",
    "\n",
    "### Significance of Research\n",
    "Object detection, identification, and classification is an ever-growing task in the computer science industry. The applications of the inter-disciplinary field of so-called \"computer vision\" range from facial recognition to handwriting detection to automating censoring and redaction, not to mention the applicability of accurately indexing the innumerable amount of images on the internet.\n",
    "\n",
    "It is therefore of the utmost importance to create machine learning models that not only accurately classify objects, but to do so with optimized efficiency. This project aims to determine which models achieve these two goals of accuracy and efficiency.\n",
    "\n",
    "__STATEMENT OF PROBLEM:__\n",
    "\n",
    "Which machine learning model provides the best accuracy/performance trade-off when classifying objects?\n",
    "\n",
    "---\n",
    "\n",
    "### Explanation of Original Datasets: CIFAR-10 and CIFAR 100\n",
    "\n",
    "The image dataset to be used here is a concatenation of two datasets: the _CIFAR-10_ and _CIFAR-100_. Both of these datasets are one compiled from the Canadian Institute for Advanced Research, with the help of the University of Toronto's Computer Science Department. CIFAR-10 is a 10-class image dataset - four classes being vehicles (airplane, automobile, ship, truck), and six animals (bird, cat, deer, dog, frog, horse). CIFAR-100 is a 100-class image dataset, with 20 classes being classified under 1 of 20 \"superclasses.\" CIFAR-10 contains 50000 training images and 10000 testing images, with a total of 6000 images per class. The CIFAR-100 dataset is the same size, thus a total of 600 images per class.\n",
    "\n",
    "### Explanation of this Dataset: \"CIFAR-110\"\n",
    "\n",
    "CIFAR-110 is the concatenation of these two datasets. However, because CIFAR-10 classes are 10x larger than those in CIFAR-100, the ten CIFAR-10 classes __will be cut down to 600 images each__ before being concatenated with the CIFAR-100 data. Moreover, because the CIFAR-10 data does not have superclasses, the ten classes will be manually assigned a superclass. __Here, 5 out of the 20 superclasses will be assigned 2 additional image classes.__ This slightly imbalances the class space within these 20 superclasses (as 5 superclasses will have 7 classes, while the remaining 15 superclasses will have only 5 classes). While this is an express bias to be taken into account, it is hypothesized that it will have a negligible effect on the accuracy of superclass classification.\n",
    "\n",
    "Training and testing dataset splitting will be retained. Furthermore, __CIFAR-10 will be kept as a separate dataset__ to compare machine learning model results between low class and high class image datasets.\n",
    "\n",
    "### Explanation of the Data\n",
    "\n",
    "Each image is in a 32 x 32 pixel format with RGB coloring (32 x 32 x (R-channelvalue + G-channelvalue + B-channelvalue) = 3072 values total). Each pixel color-channel-value ranges from 0 (darkest) to 255 (brightest). With great thanks to CIFAR, the images are all uniform 32 x 32 size. This means that _necessary_ reshaping and other transformations do not need to be done; HOWEVER, data array reshaping, as well as other non-necessary image adjustements (e.g., resolution adjustments) will be done."
   ]
  },
  {
   "cell_type": "markdown",
   "metadata": {},
   "source": [
    "---\n",
    "---\n",
    "# 2. Loading Data\n",
    "\n",
    "Loading data is done from local machine. You _could_ cheat and do `from keras.datasets import cifar100 ... cifar100.load_data`, but explaining the steps of loading will be more important for purposes of creating CIFAR-110."
   ]
  },
  {
   "cell_type": "code",
   "execution_count": 62,
   "metadata": {},
   "outputs": [],
   "source": [
    "# basic imports to start\n",
    "\n",
    "from random import shuffle\n",
    "import numpy as np\n",
    "import pandas as pd\n",
    "import matplotlib.pyplot as plt\n",
    "import seaborn as sns\n",
    "%matplotlib inline\n",
    "\n",
    "# Image & Data Loading imports\n",
    "import pickle\n",
    "import PIL\n",
    "\n",
    "# other imports (i.e., sklearn imports and keras layers) will be done ad hoc"
   ]
  },
  {
   "cell_type": "code",
   "execution_count": 26,
   "metadata": {},
   "outputs": [],
   "source": [
    "# setting pandas parameters for easily visualization\n",
    "\n",
    "pd.set_option('display.max_columns', 500)\n",
    "pd.set_option('display.max_colwidth', 150)"
   ]
  },
  {
   "cell_type": "code",
   "execution_count": 18,
   "metadata": {},
   "outputs": [],
   "source": [
    "# Importing image data as dict\n",
    "\n",
    "def unpickle(file):\n",
    "    with open(file, 'rb') as fo:\n",
    "        dict = pickle.load(fo, encoding='bytes')\n",
    "    return dict"
   ]
  },
  {
   "cell_type": "code",
   "execution_count": 19,
   "metadata": {},
   "outputs": [],
   "source": [
    "# loading image data\n",
    "\n",
    "# I *could* do a list.dir() loop, \n",
    "# but with only 6 batch files to load, this is easier.\n",
    "\n",
    "batch1 = unpickle('D:/Github/Data-Science-Bootcamp/CAPSTONE - FINAL/cifar-10-batches-py/data_batch_1')\n",
    "batch2 = unpickle('D:/Github/Data-Science-Bootcamp/CAPSTONE - FINAL/cifar-10-batches-py/data_batch_2')\n",
    "batch3 = unpickle('D:/Github/Data-Science-Bootcamp/CAPSTONE - FINAL/cifar-10-batches-py/data_batch_3')\n",
    "batch4 = unpickle('D:/Github/Data-Science-Bootcamp/CAPSTONE - FINAL/cifar-10-batches-py/data_batch_4')\n",
    "batch5 = unpickle('D:/Github/Data-Science-Bootcamp/CAPSTONE - FINAL/cifar-10-batches-py/data_batch_5')\n",
    "\n",
    "batch_test = unpickle('D:/Github/Data-Science-Bootcamp/CAPSTONE - FINAL/cifar-10-batches-py/test_batch')"
   ]
  },
  {
   "cell_type": "code",
   "execution_count": 96,
   "metadata": {},
   "outputs": [],
   "source": [
    "# loading cifar 100 image data\n",
    "batch100train = unpickle('D:/Github/Data-Science-Bootcamp/CAPSTONE - FINAL/cifar-100-python/train')\n",
    "batch100test = unpickle('D:/Github/Data-Science-Bootcamp/CAPSTONE - FINAL/cifar-100-python/test')"
   ]
  },
  {
   "cell_type": "code",
   "execution_count": 98,
   "metadata": {},
   "outputs": [
    {
     "name": "stdout",
     "output_type": "stream",
     "text": [
      "dict_keys([b'batch_label', b'labels', b'data', b'filenames'])\n"
     ]
    },
    {
     "data": {
      "text/plain": [
       "dict_keys([b'filenames', b'batch_label', b'fine_labels', b'coarse_labels', b'data'])"
      ]
     },
     "execution_count": 98,
     "metadata": {},
     "output_type": "execute_result"
    }
   ],
   "source": [
    "'''\n",
    "The relevant keys in these dictionaries \n",
    "for BOTH CIFAR-10 and CIFAR-100 are: \n",
    "1. b'labels' = target variable labels for each of the images \n",
    "2. b'data'   = numpy array of the 3072 values per image\n",
    "'''\n",
    "print(batch1.keys())\n",
    "\n",
    "'''\n",
    "CIFAR-100 splits 'labels' into two keys:\n",
    "1. b'coarse_labels' = superclass labels\n",
    "2. b'fine_labels'   = normal class labels\n",
    "'''\n",
    "batch100train.keys()"
   ]
  },
  {
   "cell_type": "markdown",
   "metadata": {},
   "source": [
    "## Next Steps for Data Setup\n",
    "\n",
    "To create CIFAR-110 _and_ retain CIFAR-10 for comparison analysis, we need to do the following:\n",
    "<br>\n",
    "1. __Combine CIFAR-10 data batches__\n",
    "   - Done through `np.concatenate`\n",
    "<br><br>\n",
    "2. __Set CIFAR-10 combined training batch as a DataFrame and testing batch as second DataFrame__\n",
    "   - These DataFrames are saved for CIFAR-10 analysis\n",
    "<br><br>\n",
    "3. __Basic DataFrame Adjustments__\n",
    "   - Create target variable names based on labels\n",
    "   - Transpose 1D numpy arrays into pixel-representation arrays\n",
    "<br><br>\n",
    "4. __Create training and testing DataFrame subsets__\n",
    "   - CIFAR-10 training and testing DataFrames will be kept for comparison analysis\n",
    "   - Subsets will need to be 10% of data per class to maintain class and size balancing\n",
    "   - datapoints for each class will need to be shuffled to yield a non-biased class subset\n",
    "<br><br>\n",
    "5. __Manually add Superclass feature to CIFAR-10 subset data__\n",
    "<br><br>\n",
    "6. __Create CIFAR-100 DataFrame__\n",
    "   - Same Process as Steps 2 and 3 above\n",
    "<br><br>\n",
    "7. __Concatenate subset DataFrames with CIFAR-100 to create CIFAR-110__\n",
    "\n",
    "---\n",
    "### 2.1 - 2.3. Setting up DataFrames\n",
    "\n",
    "Image data works off of numpy arrays, not pandas DataFrames. However, for simplicity and organizational purposes, we can maintain the arrays in a DataFrame format. In my humble opinion, inputting a labeled DataFrame column is clearer and more intuitive than np.array\\[datapoint index\\]\\[datapoint label index\\]."
   ]
  },
  {
   "cell_type": "code",
   "execution_count": 100,
   "metadata": {},
   "outputs": [
    {
     "name": "stdout",
     "output_type": "stream",
     "text": [
      "dict_keys([6, 9, 4, 1, 2, 7, 8, 3, 5, 0])\n",
      "dict_values([1030, 981, 999, 974, 1032, 1001, 1025, 1016, 937, 1005])\n",
      "dict_keys([1, 6, 8, 3, 4, 0, 5, 2, 7, 9])\n",
      "dict_values([1007, 1008, 987, 995, 1010, 984, 988, 1010, 1026, 985])\n"
     ]
    }
   ],
   "source": [
    "'''\n",
    "Checking if each batch has equal amounts of each class in them.\n",
    "If it does have an equal amount, \n",
    "we can cut down the data by class more easily.\n",
    "'''\n",
    "\n",
    "from collections import Counter\n",
    "\n",
    "batch1list = batch1.get(b'labels')\n",
    "batch2list = batch2.get(b'labels')\n",
    "\n",
    "print(Counter(batch1list).keys())   # equivalent to list(set(batch1list))\n",
    "print(Counter(batch1list).values()) # counts the frequency of each key element\n",
    "\n",
    "print(Counter(batch2list).keys())  \n",
    "print(Counter(batch2list).values())\n",
    "\n",
    "# it looks like it is not evenly distributed,\n",
    "# so we will have to concatenate first, then sift through it\n",
    "# (The test batch is good though)"
   ]
  },
  {
   "cell_type": "code",
   "execution_count": 113,
   "metadata": {},
   "outputs": [],
   "source": [
    "# 2.1-2.2 Data Batch Concatentation and DataFrame setup\n",
    "\n",
    "concat_data = np.concatenate((batch1.get(b'data'), batch2.get(b'data'), \n",
    "                              batch3.get(b'data'), batch4.get(b'data'), batch5.get(b'data')), \n",
    "                             axis=0)\n",
    "\n",
    "concat_labels = np.concatenate((batch1.get(b'labels'), batch2.get(b'labels'), \n",
    "                              batch3.get(b'labels'), batch4.get(b'labels'), batch5.get(b'labels')), \n",
    "                             axis=0)\n",
    "\n",
    "dfcifar10_train = pd.DataFrame({'1D Pixel Arrays':pd.Series([i for i in concat_data]),\n",
    "                                'Target Labels':pd.Series(concat_labels)})\n",
    "\n",
    "dfcifar10_test = pd.DataFrame({'1D Pixel Arrays':pd.Series([i for i in batch_test.get(b'data')]),\n",
    "                              'Target Labels':pd.Series(batch_test.get(b'labels'))})\n"
   ]
  },
  {
   "cell_type": "code",
   "execution_count": 115,
   "metadata": {},
   "outputs": [
    {
     "data": {
      "text/html": [
       "<div>\n",
       "<style scoped>\n",
       "    .dataframe tbody tr th:only-of-type {\n",
       "        vertical-align: middle;\n",
       "    }\n",
       "\n",
       "    .dataframe tbody tr th {\n",
       "        vertical-align: top;\n",
       "    }\n",
       "\n",
       "    .dataframe thead th {\n",
       "        text-align: right;\n",
       "    }\n",
       "</style>\n",
       "<table border=\"1\" class=\"dataframe\">\n",
       "  <thead>\n",
       "    <tr style=\"text-align: right;\">\n",
       "      <th></th>\n",
       "      <th>1D Pixel Arrays</th>\n",
       "      <th>Target Labels</th>\n",
       "    </tr>\n",
       "  </thead>\n",
       "  <tbody>\n",
       "    <tr>\n",
       "      <th>0</th>\n",
       "      <td>[59, 43, 50, 68, 98, 119, 139, 145, 149, 149, 131, 125, 142, 144, 137, 129, 137, 134, 124, 139, 139, 133, 136, 139, 152, 163, 168, 159, 158, 158, ...</td>\n",
       "      <td>6</td>\n",
       "    </tr>\n",
       "    <tr>\n",
       "      <th>1</th>\n",
       "      <td>[154, 126, 105, 102, 125, 155, 172, 180, 142, 111, 106, 109, 123, 127, 181, 217, 209, 166, 164, 158, 116, 102, 95, 90, 72, 60, 56, 77, 94, 91, 87,...</td>\n",
       "      <td>9</td>\n",
       "    </tr>\n",
       "  </tbody>\n",
       "</table>\n",
       "</div>"
      ],
      "text/plain": [
       "                                                                                                                                         1D Pixel Arrays  \\\n",
       "0  [59, 43, 50, 68, 98, 119, 139, 145, 149, 149, 131, 125, 142, 144, 137, 129, 137, 134, 124, 139, 139, 133, 136, 139, 152, 163, 168, 159, 158, 158, ...   \n",
       "1  [154, 126, 105, 102, 125, 155, 172, 180, 142, 111, 106, 109, 123, 127, 181, 217, 209, 166, 164, 158, 116, 102, 95, 90, 72, 60, 56, 77, 94, 91, 87,...   \n",
       "\n",
       "   Target Labels  \n",
       "0              6  \n",
       "1              9  "
      ]
     },
     "execution_count": 115,
     "metadata": {},
     "output_type": "execute_result"
    }
   ],
   "source": [
    "# sample dataframe output\n",
    "dfcifar10_train.head(2)"
   ]
  },
  {
   "cell_type": "code",
   "execution_count": 152,
   "metadata": {},
   "outputs": [
    {
     "data": {
      "text/plain": [
       "{b'num_cases_per_batch': 10000,\n",
       " b'label_names': [b'airplane',\n",
       "  b'automobile',\n",
       "  b'bird',\n",
       "  b'cat',\n",
       "  b'deer',\n",
       "  b'dog',\n",
       "  b'frog',\n",
       "  b'horse',\n",
       "  b'ship',\n",
       "  b'truck'],\n",
       " b'num_vis': 3072}"
      ]
     },
     "execution_count": 152,
     "metadata": {},
     "output_type": "execute_result"
    }
   ],
   "source": [
    "meta10 = unpickle('D:/Github/Data-Science-Bootcamp/CAPSTONE - FINAL/cifar-10-batches-py/batches.meta')\n",
    "meta10"
   ]
  },
  {
   "cell_type": "code",
   "execution_count": 120,
   "metadata": {},
   "outputs": [],
   "source": [
    "# 2.3 DataFrame data transformations\n",
    "# Adding real labels to dfcifar_train Target Labels\n",
    "# the numbering matches up with the labels ordered on the dataset website (and shown above)\n",
    "'''\n",
    "(Note: I discovered the meta files until *after* I created these mapping functions. \n",
    "Had I known, I wouldn't have wasted my time hand-writing out every class name!)\n",
    "'''\n",
    "\n",
    "def cifar10_target_label_mapping(target_label_list):\n",
    "    final_label_list = []\n",
    "    labeldict = {0:'Airplane', 1:'Automobile', 2:'Bird', 3:'Cat', 4:'Deer', 5:'Dog',\n",
    "                6:'Frog', 7:'Horse', 8:'Ship', 9:'Truck'}\n",
    "    \n",
    "    for label in target_label_list:\n",
    "        final_label_list.append(labeldict.get(label))\n",
    "        \n",
    "    return final_label_list\n",
    "\n",
    "# applying to datasets\n",
    "dfcifar10_train['Target Names'] = pd.Series(cifar10_target_label_mapping(dfcifar10_train['Target Labels']))\n",
    "dfcifar10_test['Target Names'] = pd.Series(cifar10_target_label_mapping(dfcifar10_test['Target Labels']))"
   ]
  },
  {
   "cell_type": "markdown",
   "metadata": {},
   "source": [
    "##### 2.3 Array Transposition \n",
    "\n",
    "The shape of original arrays in the CIFAR dataset are 1-dimension. Such an array shape is inappropriate for Python image libraries, which require: (Width, Height, (Number of Color channels or \"1\")).\n",
    "\n",
    "Specifically here, the first 1024 values of the 1-dimensional array are red-channel values, the second 1024 green-channel values, and the last 1024 blue-channel values. We are able to use the numpy method `.transpose([x,y,z])` to reshape these values accordingly."
   ]
  },
  {
   "cell_type": "code",
   "execution_count": 95,
   "metadata": {},
   "outputs": [
    {
     "data": {
      "text/plain": [
       "array([154, 126, 105, 102, 125, 155, 172, 180, 142, 111, 106, 109, 123,\n",
       "       127, 181, 217, 209, 166, 164, 158, 116, 102,  95,  90,  72,  60,\n",
       "        56,  77,  94,  91,  87,  79, 140, 145, 125, 124, 150, 152, 174,\n",
       "       178, 134, 110, 133, 163, 192, 218, 240, 245, 241, 238], dtype=uint8)"
      ]
     },
     "execution_count": 95,
     "metadata": {},
     "output_type": "execute_result"
    }
   ],
   "source": [
    "# single sample image pixel array to exemplify 1-dimensionality of original data\n",
    "\n",
    "samplearray = batch1.get(b'data')[1]\n",
    "samplearray[:50]"
   ]
  },
  {
   "cell_type": "code",
   "execution_count": 121,
   "metadata": {},
   "outputs": [],
   "source": [
    "# Reshaping Input Array Data\n",
    "\n",
    "def array_to_pixel_dimensionality_transposition(numarr):\n",
    "    transposed_list = []\n",
    "    \n",
    "    for singlearray in numarr:\n",
    "        singletransposed = singlearray.reshape(3,32,32).transpose([1, 2, 0])\n",
    "        transposed_list.append(singletransposed)\n",
    "        \n",
    "    return transposed_list\n",
    "\n",
    "# applying to datasets\n",
    "dfcifar10_train['Image Array'] = pd.Series(array_to_pixel_dimensionality_transposition(dfcifar10_train['1D Pixel Arrays']))\n",
    "dfcifar10_test['Image Array'] = pd.Series(array_to_pixel_dimensionality_transposition(dfcifar10_test['1D Pixel Arrays']))"
   ]
  },
  {
   "cell_type": "code",
   "execution_count": 122,
   "metadata": {},
   "outputs": [
    {
     "data": {
      "text/html": [
       "<div>\n",
       "<style scoped>\n",
       "    .dataframe tbody tr th:only-of-type {\n",
       "        vertical-align: middle;\n",
       "    }\n",
       "\n",
       "    .dataframe tbody tr th {\n",
       "        vertical-align: top;\n",
       "    }\n",
       "\n",
       "    .dataframe thead th {\n",
       "        text-align: right;\n",
       "    }\n",
       "</style>\n",
       "<table border=\"1\" class=\"dataframe\">\n",
       "  <thead>\n",
       "    <tr style=\"text-align: right;\">\n",
       "      <th></th>\n",
       "      <th>1D Pixel Arrays</th>\n",
       "      <th>Target Labels</th>\n",
       "      <th>Target Names</th>\n",
       "      <th>Image Array</th>\n",
       "    </tr>\n",
       "  </thead>\n",
       "  <tbody>\n",
       "    <tr>\n",
       "      <th>0</th>\n",
       "      <td>[59, 43, 50, 68, 98, 119, 139, 145, 149, 149, 131, 125, 142, 144, 137, 129, 137, 134, 124, 139, 139, 133, 136, 139, 152, 163, 168, 159, 158, 158, ...</td>\n",
       "      <td>6</td>\n",
       "      <td>Frog</td>\n",
       "      <td>[[[59, 62, 63], [43, 46, 45], [50, 48, 43], [68, 54, 42], [98, 73, 52], [119, 91, 63], [139, 107, 75], [145, 110, 80], [149, 117, 89], [149, 120, ...</td>\n",
       "    </tr>\n",
       "    <tr>\n",
       "      <th>1</th>\n",
       "      <td>[154, 126, 105, 102, 125, 155, 172, 180, 142, 111, 106, 109, 123, 127, 181, 217, 209, 166, 164, 158, 116, 102, 95, 90, 72, 60, 56, 77, 94, 91, 87,...</td>\n",
       "      <td>9</td>\n",
       "      <td>Truck</td>\n",
       "      <td>[[[154, 177, 187], [126, 137, 136], [105, 104, 95], [102, 101, 99], [125, 131, 139], [155, 166, 180], [172, 190, 210], [180, 199, 214], [142, 156,...</td>\n",
       "    </tr>\n",
       "  </tbody>\n",
       "</table>\n",
       "</div>"
      ],
      "text/plain": [
       "                                                                                                                                         1D Pixel Arrays  \\\n",
       "0  [59, 43, 50, 68, 98, 119, 139, 145, 149, 149, 131, 125, 142, 144, 137, 129, 137, 134, 124, 139, 139, 133, 136, 139, 152, 163, 168, 159, 158, 158, ...   \n",
       "1  [154, 126, 105, 102, 125, 155, 172, 180, 142, 111, 106, 109, 123, 127, 181, 217, 209, 166, 164, 158, 116, 102, 95, 90, 72, 60, 56, 77, 94, 91, 87,...   \n",
       "\n",
       "   Target Labels Target Names  \\\n",
       "0              6         Frog   \n",
       "1              9        Truck   \n",
       "\n",
       "                                                                                                                                             Image Array  \n",
       "0  [[[59, 62, 63], [43, 46, 45], [50, 48, 43], [68, 54, 42], [98, 73, 52], [119, 91, 63], [139, 107, 75], [145, 110, 80], [149, 117, 89], [149, 120, ...  \n",
       "1  [[[154, 177, 187], [126, 137, 136], [105, 104, 95], [102, 101, 99], [125, 131, 139], [155, 166, 180], [172, 190, 210], [180, 199, 214], [142, 156,...  "
      ]
     },
     "execution_count": 122,
     "metadata": {},
     "output_type": "execute_result"
    }
   ],
   "source": [
    "# brief check to see adjustment to DataFrames\n",
    "dfcifar10_train.head(2)"
   ]
  },
  {
   "cell_type": "code",
   "execution_count": 123,
   "metadata": {},
   "outputs": [
    {
     "data": {
      "text/plain": [
       "(32, 32, 3)"
      ]
     },
     "execution_count": 123,
     "metadata": {},
     "output_type": "execute_result"
    }
   ],
   "source": [
    "# brief check for array shape\n",
    "dfcifar10_train['Image Array'][1].shape"
   ]
  },
  {
   "cell_type": "code",
   "execution_count": 128,
   "metadata": {},
   "outputs": [
    {
     "name": "stdout",
     "output_type": "stream",
     "text": [
      "This is a sample image of a Ship\n"
     ]
    },
    {
     "data": {
      "image/png": "[encoded data removed]",
      "text/plain": [
       "<Figure size 504x504 with 1 Axes>"
      ]
     },
     "metadata": {
      "needs_background": "light"
     },
     "output_type": "display_data"
    }
   ],
   "source": [
    "# check to see if \"Image Array\" data actually corresponds to Image parameters\n",
    "\n",
    "plt.figure(figsize=(7,7))\n",
    "print('This is a sample image of a', dfcifar10_train['Target Names'][100])\n",
    "plt.imshow(dfcifar10_train['Image Array'][100])\n",
    "plt.show()"
   ]
  },
  {
   "cell_type": "markdown",
   "metadata": {},
   "source": [
    "__Note:__ We will not scale or transform the images at this time. The focus is on creating the four datasets: <br> \n",
    "dfcifar10_train, dfcifar10_test, dfcifar110_train, dfcifar110_test.\n",
    "\n",
    "---\n",
    "### 2.4-2.5 DataFrame Subset and Transfer\n",
    "To create dfcifar110, we need to take a subset of _each_ class with the length of that found in each class in CIFAR100 (to maintain balancing). In other words, the subset will be 10% of each class in dfcifar10_train and dfcifar10_test.\n",
    "\n",
    "There, we will add a new target variable - the \"superclass\" found in CIFAR-100 but not in CIFAR-10 - to the dfcifar10 train and test subsets.\n",
    "\n",
    "Before we concatenate this data with dfcifar100, we need to have the features match exactly. Therefore, we need to create columns for Target Names and Image Arrays. Also as a technical but important point, we need to account for the class labels overlapping with that found in dfcifar. We will have to adjust the labels to make sure all classes are distinct."
   ]
  },
  {
   "cell_type": "code",
   "execution_count": 130,
   "metadata": {},
   "outputs": [],
   "source": [
    "# creating subset function\n",
    "def CIFAR10_balancedsubset(df, targetvariablelist):\n",
    "    \n",
    "    dfbalancedsubset = pd.DataFrame(columns=list(dfcifar10_train.columns))\n",
    "    \n",
    "    for targetclass in targetvariablelist.unique():             \n",
    "        subclass = df[targetvariablelist == targetclass].copy() # I personally use .copy() \n",
    "                                                                # all the time to avoid weird errors!!!!!\n",
    "        #creating subclass via df.sample()    \n",
    "        subclass = subclass.sample(frac=0.1, random_state=44)   # df.sample automatically shuffles the data for sampling!\n",
    "        dfbalancedsubset = pd.concat([dfbalancedsubset, subclass])\n",
    "                      \n",
    "    return dfbalancedsubset                                                       "
   ]
  },
  {
   "cell_type": "code",
   "execution_count": 131,
   "metadata": {},
   "outputs": [],
   "source": [
    "# applying function to dataframes\n",
    "df10trainsubset = CIFAR10_balancedsubset(dfcifar10_train, dfcifar10_train['Target Names'])\n",
    "df10testsubset = CIFAR10_balancedsubset(dfcifar10_test, dfcifar10_test['Target Names'])"
   ]
  },
  {
   "cell_type": "code",
   "execution_count": 132,
   "metadata": {},
   "outputs": [
    {
     "data": {
      "text/plain": [
       "(5000, 4)"
      ]
     },
     "execution_count": 132,
     "metadata": {},
     "output_type": "execute_result"
    }
   ],
   "source": [
    "# length check\n",
    "df10trainsubset.shape # cut 5000 images per class down to 500 images per class to match dfcifar100"
   ]
  },
  {
   "cell_type": "code",
   "execution_count": 135,
   "metadata": {},
   "outputs": [],
   "source": [
    "# 2.5 Superclass datacolumn addition:\n",
    "\n",
    "def CIFAR10_superclass_mapping(target_label_list):\n",
    "    \n",
    "    final_label_list = []\n",
    "    final_label_num_list = []\n",
    "    \n",
    "    # I don't think I can do this any other way but manually...\n",
    "    \n",
    "    labeldict = {0:'Vehicles 1', 1:'Vehicles 2', 2:'Reptiles', 3:'Medium-Sized Mammals', \n",
    "                 4:'Large Omnivores & Herbivores', 5:'Medium-Sized Mammals',\n",
    "                6:'Reptiles', 7:'Large Omnivores & Herbivores', 8:'Vehicles 1', 9:'Vehicles 2'}\n",
    "    \n",
    "    # These Numeric Superclass values taken from original dataset\n",
    "    labelnumdict = {'Vehicles1':18, 'Vehicles2':19, 'Reptiles':15, \n",
    "                    'Large Omnivores & Herbivores':11, 'Medium-Sized Mammals':12}\n",
    "    \n",
    "    for label in target_label_list:\n",
    "        target_label = labeldict.get(label)\n",
    "        \n",
    "        final_label_list.append(target_label)\n",
    "        final_label_num_list.append(labelnumdict.get(target_label))\n",
    "        \n",
    "        # outputs TWO Lists (to be convereted into Pandas Series and added to respective dataframes)\n",
    "    return final_label_list, final_label_num_list\n"
   ]
  },
  {
   "cell_type": "code",
   "execution_count": 136,
   "metadata": {},
   "outputs": [],
   "source": [
    "# applying function to subset df's - again, generating two data columns\n",
    "\n",
    "df10trainsubset['Superclass Name'], df10trainsubset['Class Label'] = CIFAR10_superclass_mapping(df10trainsubset['Target Labels'])\n",
    "df10testsubset['Superclass Name'], df10testsubset['Class Label'] = CIFAR10_superclass_mapping(df10testsubset['Target Labels'])"
   ]
  },
  {
   "cell_type": "markdown",
   "metadata": {},
   "source": [
    "### 2.6 Creating the CIFAR-100 DataFrames\n",
    "\n",
    "We will repeat the same DataFrame creation steps for CIFAR-100. Doing this ensures the shape and characteristics of the CIFAR-100 DataFrame match up perfectly to those in the CIFAR-10 datasets. The reason why this is so important is for the concatenation step between the two DataFrames via `pd.concat`; if the shapes and characteristics are not exact, an error will be thrown."
   ]
  },
  {
   "cell_type": "code",
   "execution_count": 137,
   "metadata": {},
   "outputs": [
    {
     "name": "stdout",
     "output_type": "stream",
     "text": [
      "dict_keys([b'filenames', b'batch_label', b'fine_labels', b'coarse_labels', b'data'])\n",
      "dict_keys([b'filenames', b'batch_label', b'fine_labels', b'coarse_labels', b'data'])\n"
     ]
    }
   ],
   "source": [
    "# checking the characteristics to import\n",
    "print(batch100train.keys())\n",
    "print(batch100test.keys())"
   ]
  },
  {
   "cell_type": "code",
   "execution_count": 139,
   "metadata": {},
   "outputs": [],
   "source": [
    "# realized I went a little out of order creating superclass names when there are none!\n",
    "# gotta set this up for CIFAR-100 input data ***before*** concatenation\n",
    "\n",
    "'''\n",
    "NOTE: \n",
    "I realized I could've created a second argument called ['a', 'b', 'c'] and compiled all the mapping\n",
    "into one function, with \"if 'b'\", map label names, \"if 'c'\", map superclases, etc.\n",
    "...but the code is already there. There's no performance lost by creating a new function, \n",
    "so I'm leaving it.\n",
    "'''\n",
    "#------------------------------------------------------------------\n",
    "\n",
    "def CIFAR100_superclass_mapping(target_label_list):\n",
    "    \n",
    "    final_label_list = []\n",
    "    \n",
    "    # I don't think I can do this any other way but manually...again...\n",
    "    # tried to carry over as much as I could though!\n",
    "    \n",
    "    labeldict = {18:'Vehicles 1', 19:'Vehicles 2', 15:'Reptiles', 12:'Medium-Sized Mammals', \n",
    "                 11:'Large Omnivores & Herbivores', 5:'Household Electronic Devices',\n",
    "                6:'Household Furniture', 7:'Insects', 8:'Large Carnivores', 9:'Large Man-Made Outdoor Things',\n",
    "                0:'Aquatic Mammals', 1:'Fish', 2:'Flowers', 3:'Food Containers', 4:'Fruits & Vegetables',\n",
    "                10:'Large Natural Outdoor Scenes', 13:'Non-Insect Vertebrates', 14:'People', 16:'Small Mammals',\n",
    "                17:'Trees'}\n",
    "    \n",
    "    for label in target_label_list:\n",
    "        target_label = labeldict.get(label)\n",
    "        \n",
    "        final_label_list.append(target_label)\n",
    "        \n",
    "        # outputs TWO Lists (to be convereted into Pandas Series and added to respective dataframes)\n",
    "    return final_label_list"
   ]
  },
  {
   "cell_type": "code",
   "execution_count": 141,
   "metadata": {},
   "outputs": [],
   "source": [
    "# applying function\n",
    "\n",
    "batch100traincoarselabellist = CIFAR100_superclass_mapping(batch100train.get(b'coarse_labels'))\n",
    "batch100testcoarselabellist = CIFAR100_superclass_mapping(batch100test.get(b'coarse_labels'))"
   ]
  },
  {
   "cell_type": "code",
   "execution_count": 175,
   "metadata": {},
   "outputs": [],
   "source": [
    "# creating DataFrames\n",
    "'''\n",
    "You will see I added '10' to the Target Label values. \n",
    "This was to ensure that there was no overlap in classification labels when adding 10 new classes labeled 0 to 9.\n",
    "'''\n",
    "\n",
    "dfcifar100_train = pd.DataFrame({'1D Pixel Arrays':pd.Series([i for i in batch100train.get(b'data')]),\n",
    "                                'Target Labels':pd.Series([i+10 for i in batch100train.get(b'fine_labels')]),\n",
    "                               'Superclass Name': pd.Series(batch100traincoarselabellist)})\n",
    "\n",
    "dfcifar100_test = pd.DataFrame({'1D Pixel Arrays':pd.Series([i for i in batch100test.get(b'data')]),\n",
    "                              'Target Labels':pd.Series([i+10 for i in batch100test.get(b'fine_labels')]),\n",
    "                              'Superclass Name': pd.Series(batch100testcoarselabellist)})"
   ]
  },
  {
   "cell_type": "code",
   "execution_count": 176,
   "metadata": {},
   "outputs": [],
   "source": [
    "# adding final datacolumn: transpositioned arrays\n",
    "\n",
    "dfcifar100_train['Image Array'] = pd.Series(array_to_pixel_dimensionality_transposition(dfcifar100_train['1D Pixel Arrays']))\n",
    "dfcifar100_test['Image Array'] = pd.Series(array_to_pixel_dimensionality_transposition(dfcifar100_test['1D Pixel Arrays']))"
   ]
  },
  {
   "cell_type": "code",
   "execution_count": 177,
   "metadata": {},
   "outputs": [
    {
     "data": {
      "text/plain": [
       "['1D Pixel Arrays', 'Target Labels', 'Superclass Name', 'Image Array']"
      ]
     },
     "execution_count": 177,
     "metadata": {},
     "output_type": "execute_result"
    }
   ],
   "source": [
    "list(dfcifar100_train.columns)"
   ]
  },
  {
   "cell_type": "code",
   "execution_count": 178,
   "metadata": {},
   "outputs": [
    {
     "name": "stdout",
     "output_type": "stream",
     "text": [
      "dict_keys([b'fine_label_names', b'coarse_label_names'])\n"
     ]
    },
    {
     "data": {
      "text/plain": [
       "[b'apple',\n",
       " b'aquarium_fish',\n",
       " b'baby',\n",
       " b'bear',\n",
       " b'beaver',\n",
       " b'bed',\n",
       " b'bee',\n",
       " b'beetle',\n",
       " b'bicycle',\n",
       " b'bottle']"
      ]
     },
     "execution_count": 178,
     "metadata": {},
     "output_type": "execute_result"
    }
   ],
   "source": [
    "meta100 = unpickle('D:/Github/Data-Science-Bootcamp/CAPSTONE - FINAL/cifar-100-python/meta')\n",
    "print(meta100.keys())\n",
    "meta100.get(b'fine_label_names')[:10]"
   ]
  },
  {
   "cell_type": "code",
   "execution_count": 179,
   "metadata": {},
   "outputs": [],
   "source": [
    "# mapping Target Names to Target Labels\n",
    "# Note - however, that the superclass labels are in order, \n",
    "# so the functions are an accurate representation of that\n",
    "\n",
    "targetnames = list(meta100.get(b'fine_label_names'))\n",
    "targetnameappend = []\n",
    "\n",
    "for i in dfcifar100_train['Target Labels']:\n",
    "    i = i - 10 # gotta fix that again for this loop!\n",
    "    labelname = targetnames[i]\n",
    "    targetnameappend.append(labelname)\n",
    "\n",
    "dfcifar100_train['Target Names'] = pd.Series(targetnameappend)"
   ]
  },
  {
   "cell_type": "code",
   "execution_count": 180,
   "metadata": {},
   "outputs": [],
   "source": [
    "# doing same for cifar100test\n",
    "targetnameappend = []\n",
    "\n",
    "for i in dfcifar100_test['Target Labels']:\n",
    "    i = i - 10 # gotta fix that again for this loop!\n",
    "    labelname = targetnames[i]\n",
    "    targetnameappend.append(labelname)\n",
    "\n",
    "dfcifar100_test['Target Names'] = pd.Series(targetnameappend)"
   ]
  },
  {
   "cell_type": "markdown",
   "metadata": {},
   "source": [
    "### 2.7 CIFAR-101 DataFrame Creation"
   ]
  },
  {
   "cell_type": "code",
   "execution_count": 181,
   "metadata": {},
   "outputs": [
    {
     "name": "stdout",
     "output_type": "stream",
     "text": [
      "Index(['1D Pixel Arrays', 'Target Labels', 'Superclass Name', 'Image Array',\n",
      "       'Target Names'],\n",
      "      dtype='object')\n",
      "Index(['1D Pixel Arrays', 'Target Labels', 'Target Names', 'Image Array',\n",
      "       'Superclass Name', 'Class Label'],\n",
      "      dtype='object')\n"
     ]
    }
   ],
   "source": [
    "# for the grand finale: CIFAR10 and CIFAR100 concatenation\n",
    "# again, have to make sure the columns match up\n",
    "\n",
    "print(dfcifar100_train.columns)\n",
    "print(df10trainsubset.columns)"
   ]
  },
  {
   "cell_type": "code",
   "execution_count": 184,
   "metadata": {},
   "outputs": [
    {
     "name": "stdout",
     "output_type": "stream",
     "text": [
      "dict_keys([b'filenames', b'batch_label', b'fine_labels', b'coarse_labels', b'data'])\n",
      "b'ng batch 1 of 1'\n"
     ]
    }
   ],
   "source": [
    "print(batch100test.keys())\n",
    "print(batch100test.get(b'batch_label')[5:20])"
   ]
  },
  {
   "cell_type": "code",
   "execution_count": 185,
   "metadata": {},
   "outputs": [],
   "source": [
    "# one final data column to add: class label\n",
    "\n",
    "dfcifar100_train['Class Label'] = pd.Series(batch100train.get(b'coarse_labels'))\n",
    "dfcifar100_test['Class Label'] = pd.Series(batch100test.get(b'coarse_labels'))"
   ]
  },
  {
   "cell_type": "code",
   "execution_count": 189,
   "metadata": {},
   "outputs": [],
   "source": [
    "# Let's concat!\n",
    "\n",
    "df101train = pd.concat([dfcifar100_train, df10trainsubset], axis=0, sort=True, ignore_index=True).reset_index()\n",
    "df101test = pd.concat([dfcifar100_test, df10testsubset], axis=0, sort=True, ignore_index=True).reset_index()"
   ]
  },
  {
   "cell_type": "code",
   "execution_count": 190,
   "metadata": {},
   "outputs": [
    {
     "data": {
      "text/html": [
       "<div>\n",
       "<style scoped>\n",
       "    .dataframe tbody tr th:only-of-type {\n",
       "        vertical-align: middle;\n",
       "    }\n",
       "\n",
       "    .dataframe tbody tr th {\n",
       "        vertical-align: top;\n",
       "    }\n",
       "\n",
       "    .dataframe thead th {\n",
       "        text-align: right;\n",
       "    }\n",
       "</style>\n",
       "<table border=\"1\" class=\"dataframe\">\n",
       "  <thead>\n",
       "    <tr style=\"text-align: right;\">\n",
       "      <th></th>\n",
       "      <th>index</th>\n",
       "      <th>1D Pixel Arrays</th>\n",
       "      <th>Class Label</th>\n",
       "      <th>Image Array</th>\n",
       "      <th>Superclass Name</th>\n",
       "      <th>Target Labels</th>\n",
       "      <th>Target Names</th>\n",
       "    </tr>\n",
       "  </thead>\n",
       "  <tbody>\n",
       "    <tr>\n",
       "      <th>0</th>\n",
       "      <td>0</td>\n",
       "      <td>[255, 255, 255, 255, 255, 255, 255, 255, 255, 255, 255, 255, 255, 255, 255, 255, 255, 255, 231, 176, 237, 255, 255, 255, 255, 255, 252, 242, 229, ...</td>\n",
       "      <td>11.0</td>\n",
       "      <td>[[[255, 255, 255], [255, 255, 255], [255, 255, 255], [255, 255, 255], [255, 255, 255], [255, 255, 255], [255, 255, 255], [255, 255, 255], [255, 25...</td>\n",
       "      <td>Large Omnivores &amp; Herbivores</td>\n",
       "      <td>29</td>\n",
       "      <td>b'cattle'</td>\n",
       "    </tr>\n",
       "    <tr>\n",
       "      <th>1</th>\n",
       "      <td>1</td>\n",
       "      <td>[255, 253, 253, 253, 253, 253, 253, 253, 253, 253, 253, 253, 253, 253, 253, 253, 253, 252, 253, 253, 253, 253, 253, 253, 253, 253, 253, 253, 253, ...</td>\n",
       "      <td>15.0</td>\n",
       "      <td>[[[255, 255, 255], [253, 253, 253], [253, 253, 253], [253, 253, 253], [253, 253, 253], [253, 253, 253], [253, 253, 253], [253, 253, 253], [253, 25...</td>\n",
       "      <td>Reptiles</td>\n",
       "      <td>39</td>\n",
       "      <td>b'dinosaur'</td>\n",
       "    </tr>\n",
       "  </tbody>\n",
       "</table>\n",
       "</div>"
      ],
      "text/plain": [
       "   index  \\\n",
       "0      0   \n",
       "1      1   \n",
       "\n",
       "                                                                                                                                         1D Pixel Arrays  \\\n",
       "0  [255, 255, 255, 255, 255, 255, 255, 255, 255, 255, 255, 255, 255, 255, 255, 255, 255, 255, 231, 176, 237, 255, 255, 255, 255, 255, 252, 242, 229, ...   \n",
       "1  [255, 253, 253, 253, 253, 253, 253, 253, 253, 253, 253, 253, 253, 253, 253, 253, 253, 252, 253, 253, 253, 253, 253, 253, 253, 253, 253, 253, 253, ...   \n",
       "\n",
       "   Class Label  \\\n",
       "0         11.0   \n",
       "1         15.0   \n",
       "\n",
       "                                                                                                                                             Image Array  \\\n",
       "0  [[[255, 255, 255], [255, 255, 255], [255, 255, 255], [255, 255, 255], [255, 255, 255], [255, 255, 255], [255, 255, 255], [255, 255, 255], [255, 25...   \n",
       "1  [[[255, 255, 255], [253, 253, 253], [253, 253, 253], [253, 253, 253], [253, 253, 253], [253, 253, 253], [253, 253, 253], [253, 253, 253], [253, 25...   \n",
       "\n",
       "                Superclass Name Target Labels Target Names  \n",
       "0  Large Omnivores & Herbivores            29    b'cattle'  \n",
       "1                      Reptiles            39  b'dinosaur'  "
      ]
     },
     "execution_count": 190,
     "metadata": {},
     "output_type": "execute_result"
    }
   ],
   "source": [
    "df101train.head(2)"
   ]
  },
  {
   "cell_type": "code",
   "execution_count": 202,
   "metadata": {},
   "outputs": [],
   "source": [
    "# some points of data cleaning\n",
    "\n",
    "# I'm not sure how that index column got there...\n",
    "\n",
    "# (commented out because I already dropped it)\n",
    "#df101train.drop(columns='index', inplace=True) \n",
    "#df101test.drop(columns='index', inplace=True)\n",
    "\n",
    "# Cleaning the Target Names - Making it Look Pretty\n",
    "import re\n",
    "\n",
    "def label_cleaner(labellist):\n",
    "    for name in labellist:\n",
    "        name = name.decode(\"utf-8\") # originally in \"bytes\" datatype - could not do string cleaning that way\n",
    "        name = re.sub('b\\'', '', name)\n",
    "        name = re.sub('\\'', '', name)\n",
    "        name = name.capitalize()\n",
    "        \n",
    "        return name\n",
    "\n",
    "# apply to data column\n",
    "df101train['Target Names'] = label_cleaner(df101train['Target Names'])\n",
    "df101test['Target Names'] = label_cleaner(df101test['Target Names'])"
   ]
  },
  {
   "cell_type": "code",
   "execution_count": 198,
   "metadata": {},
   "outputs": [],
   "source": [
    "# another data cleaning point - reordering columns\n",
    "# easiest way to do this is to overwrite the dataframe variable\n",
    "\n",
    "df101train = df101train[['1D Pixel Arrays', 'Image Array', 'Target Names', \n",
    "                         'Target Labels', 'Superclass Name', 'Class Label']].copy()\n",
    "df101test = df101test[['1D Pixel Arrays', 'Image Array', 'Target Names', \n",
    "                         'Target Labels', 'Superclass Name', 'Class Label']].copy()\n",
    "\n",
    "# redoing stupid names\n",
    "\n",
    "df101train.rename(columns={'Target Labels':'Target Num', 'Class Label': 'Superclass Num'}, inplace=True)\n",
    "df101test.rename(columns={'Target Labels':'Target Num', 'Class Label': 'Superclass Num'}, inplace=True)"
   ]
  },
  {
   "cell_type": "code",
   "execution_count": 204,
   "metadata": {},
   "outputs": [
    {
     "data": {
      "text/html": [
       "<div>\n",
       "<style scoped>\n",
       "    .dataframe tbody tr th:only-of-type {\n",
       "        vertical-align: middle;\n",
       "    }\n",
       "\n",
       "    .dataframe tbody tr th {\n",
       "        vertical-align: top;\n",
       "    }\n",
       "\n",
       "    .dataframe thead th {\n",
       "        text-align: right;\n",
       "    }\n",
       "</style>\n",
       "<table border=\"1\" class=\"dataframe\">\n",
       "  <thead>\n",
       "    <tr style=\"text-align: right;\">\n",
       "      <th></th>\n",
       "      <th>1D Pixel Arrays</th>\n",
       "      <th>Image Array</th>\n",
       "      <th>Target Names</th>\n",
       "      <th>Target Num</th>\n",
       "      <th>Superclass Name</th>\n",
       "      <th>Superclass Num</th>\n",
       "    </tr>\n",
       "  </thead>\n",
       "  <tbody>\n",
       "    <tr>\n",
       "      <th>0</th>\n",
       "      <td>[255, 255, 255, 255, 255, 255, 255, 255, 255, 255, 255, 255, 255, 255, 255, 255, 255, 255, 231, 176, 237, 255, 255, 255, 255, 255, 252, 242, 229, ...</td>\n",
       "      <td>[[[255, 255, 255], [255, 255, 255], [255, 255, 255], [255, 255, 255], [255, 255, 255], [255, 255, 255], [255, 255, 255], [255, 255, 255], [255, 25...</td>\n",
       "      <td>Cattle</td>\n",
       "      <td>29</td>\n",
       "      <td>Large Omnivores &amp; Herbivores</td>\n",
       "      <td>11.0</td>\n",
       "    </tr>\n",
       "    <tr>\n",
       "      <th>1</th>\n",
       "      <td>[255, 253, 253, 253, 253, 253, 253, 253, 253, 253, 253, 253, 253, 253, 253, 253, 253, 252, 253, 253, 253, 253, 253, 253, 253, 253, 253, 253, 253, ...</td>\n",
       "      <td>[[[255, 255, 255], [253, 253, 253], [253, 253, 253], [253, 253, 253], [253, 253, 253], [253, 253, 253], [253, 253, 253], [253, 253, 253], [253, 25...</td>\n",
       "      <td>Cattle</td>\n",
       "      <td>39</td>\n",
       "      <td>Reptiles</td>\n",
       "      <td>15.0</td>\n",
       "    </tr>\n",
       "  </tbody>\n",
       "</table>\n",
       "</div>"
      ],
      "text/plain": [
       "                                                                                                                                         1D Pixel Arrays  \\\n",
       "0  [255, 255, 255, 255, 255, 255, 255, 255, 255, 255, 255, 255, 255, 255, 255, 255, 255, 255, 231, 176, 237, 255, 255, 255, 255, 255, 252, 242, 229, ...   \n",
       "1  [255, 253, 253, 253, 253, 253, 253, 253, 253, 253, 253, 253, 253, 253, 253, 253, 253, 252, 253, 253, 253, 253, 253, 253, 253, 253, 253, 253, 253, ...   \n",
       "\n",
       "                                                                                                                                             Image Array  \\\n",
       "0  [[[255, 255, 255], [255, 255, 255], [255, 255, 255], [255, 255, 255], [255, 255, 255], [255, 255, 255], [255, 255, 255], [255, 255, 255], [255, 25...   \n",
       "1  [[[255, 255, 255], [253, 253, 253], [253, 253, 253], [253, 253, 253], [253, 253, 253], [253, 253, 253], [253, 253, 253], [253, 253, 253], [253, 25...   \n",
       "\n",
       "  Target Names Target Num               Superclass Name  Superclass Num  \n",
       "0       Cattle         29  Large Omnivores & Herbivores            11.0  \n",
       "1       Cattle         39                      Reptiles            15.0  "
      ]
     },
     "execution_count": 204,
     "metadata": {},
     "output_type": "execute_result"
    }
   ],
   "source": [
    "df101train.head(2)"
   ]
  },
  {
   "cell_type": "code",
   "execution_count": 205,
   "metadata": {},
   "outputs": [],
   "source": [
    "# As a final data cleaning thing, we are going to shuffle ALL datasets to minimize any \n",
    "# bias from the order of the datapoints. We can do this via the previously used df.sample\n",
    "\n",
    "df101train = df101train.sample(frac=1, axis=0).reset_index(drop=True)\n",
    "df101test = df101test.sample(frac=1, axis=0).reset_index(drop=True)\n",
    "\n",
    "# CIFAR-10 datasets\n",
    "# taking this as an opportunity to change my bad variables\n",
    "df10_train = dfcifar10_train.sample(frac=1, axis=0).reset_index(drop=True)\n",
    "df10_test = dfcifar10_test.sample(frac=1, axis=0).reset_index(drop=True)"
   ]
  },
  {
   "cell_type": "markdown",
   "metadata": {},
   "source": [
    "### One Final Thing - Leaving the Data Split the Way It Is\n",
    "\n",
    "CIFAR's train/test split is 5/6 to 1/6. Normally, that split is far too imbalanced; over 80% should be more than enough to train a good classifier.^ Normally, I would concatenate the two sets together, and re-split 75/25. Of course, I would use sklearn's hyperparameter `stratify` to ensure that the proportions of the various classes between the two sets are maintained.\n",
    "\n",
    "However, if the purpose of this project is to find an _accurate_ and _efficient_ model, we should err on the side of caution. As such, I will leave the 5/6 // 1/6 proportion.\n",
    "\n",
    "---\n",
    "^ Another reason why I am leaving the split the way it is is because I do not for one second believe that my opinions on dataset splitting are better than the creators of this well-known and highly-curated dataset."
   ]
  },
  {
   "cell_type": "markdown",
   "metadata": {},
   "source": [
    "# 3. Data Visualization\n",
    "\n",
    "Here, we will experiment with a few image manipulation techniques to see if we can create the best possible input image for data modeling. In other words, certain manipulation techniques may \"augment\" our data as a sort of pre-processing for the machine learning models."
   ]
  },
  {
   "cell_type": "code",
   "execution_count": 212,
   "metadata": {},
   "outputs": [
    {
     "data": {
      "image/png": "[encoded data removed]",
      "text/plain": [
       "<Figure size 1080x1080 with 10 Axes>"
      ]
     },
     "metadata": {
      "needs_background": "light"
     },
     "output_type": "display_data"
    }
   ],
   "source": [
    "# sample images\n",
    "plt.figure(figsize=(15,15))\n",
    "\n",
    "sampleimages = df101train['Image Array'][600:610]\n",
    "\n",
    "columns = 5\n",
    "for i, image in enumerate(sampleimages):\n",
    "    plt.subplot(len(sampleimages) / columns + 1, columns, i + 1)\n",
    "    \n",
    "    plt.imshow(image)\n",
    "    "
   ]
  },
  {
   "cell_type": "code",
   "execution_count": 257,
   "metadata": {},
   "outputs": [
    {
     "data": {
      "text/plain": [
       "<matplotlib.image.AxesImage at 0x2dede627438>"
      ]
     },
     "execution_count": 257,
     "metadata": {},
     "output_type": "execute_result"
    },
    {
     "data": {
      "image/png": "[encoded data removed]",
      "text/plain": [
       "<Figure size 432x288 with 1 Axes>"
      ]
     },
     "metadata": {
      "needs_background": "light"
     },
     "output_type": "display_data"
    }
   ],
   "source": [
    "sampleimage = df101train['Image Array'][727]\n",
    "plt.imshow(sampleimage)"
   ]
  },
  {
   "cell_type": "code",
   "execution_count": 301,
   "metadata": {
    "scrolled": false
   },
   "outputs": [
    {
     "name": "stdout",
     "output_type": "stream",
     "text": [
      "(32, 32)\n",
      "uint8\n"
     ]
    },
    {
     "data": {
      "image/png": "[encoded data removed]",
      "text/plain": [
       "<Figure size 1080x1080 with 10 Axes>"
      ]
     },
     "metadata": {
      "needs_background": "light"
     },
     "output_type": "display_data"
    }
   ],
   "source": [
    "# sample manipulations of same image\n",
    "from scipy import misc, ndimage\n",
    "from scipy.misc import face\n",
    "from skimage import filters\n",
    "\n",
    "plt.figure(figsize=(15,15))\n",
    "\n",
    "sampleimage = df101train['Image Array'][727] # random example\n",
    "sampleimage2d = sampleimage[:,:,0]\n",
    "\n",
    "\n",
    "print(sampleimage2d.shape)\n",
    "print(sampleimage2d.dtype)\n",
    "\n",
    "\n",
    "#------------------------------------------------------------------\n",
    "\n",
    "plt.subplot(2,5,1)\n",
    "sx, sy = sampleimage2d.shape\n",
    "X, Y = np.ogrid[0:sx, 0:sy]\n",
    "regions = sy//3 * (X//2) + Y//3\n",
    "block_mean = ndimage.mean(sampleimage2d, labels=regions,\n",
    "                              index=np.arange(1, regions.max() +1))\n",
    "block_mean.shape = (sx//2, sy//3)\n",
    "plt.imshow(block_mean)\n",
    "plt.title('Broadcasting Mean')\n",
    "plt.axis('off')\n",
    "\n",
    "#------------------------------------------------------------------\n",
    "\n",
    "contour = np.sin(sampleimage2d[0])*np.cos(sampleimage2d[1])\n",
    "\n",
    "plt.subplot(2,5,2)\n",
    "plt.contour(sampleimage2d)\n",
    "plt.title('Contouring')\n",
    "plt.axis('off')\n",
    "\n",
    "#------------------------------------------------------------------\n",
    "\n",
    "plt.subplot(2,5,3)\n",
    "plt.imshow(sampleimage2d)\n",
    "plt.title('Original Image (No Interpolation)')\n",
    "plt.axis('off')\n",
    "\n",
    "#------------------------------------------------------------------\n",
    "\n",
    "plt.subplot(2,5,4)\n",
    "plt.imshow(sampleimage2d, interpolation='bilinear')\n",
    "plt.title('Bilinear Interpolation')\n",
    "plt.axis('off')\n",
    "\n",
    "#------------------------------------------------------------------\n",
    "\n",
    "plt.subplot(2,5,5)\n",
    "plt.imshow(sampleimage2d, interpolation='nearest')\n",
    "plt.title('Nearest Interpolation')\n",
    "plt.axis('off')\n",
    "\n",
    "#------------------------------------------------------------------\n",
    "\n",
    "plt.subplot(2,5,6)\n",
    "plt.imshow(ndimage.rotate(sampleimage2d, 45))\n",
    "plt.title('Image Rotation')\n",
    "plt.axis('off')\n",
    "\n",
    "#------------------------------------------------------------------\n",
    "\n",
    "blurred_image = ndimage.gaussian_filter(sampleimage2d, sigma=1)\n",
    "blurred_filtered_image = ndimage.gaussian_filter(blurred_image, sigma=0.5)\n",
    "sharpened_image = blurred_image + 30 * (blurred_image - blurred_filtered_image)\n",
    "\n",
    "plt.subplot(2,5,7)\n",
    "plt.imshow(blurred_image)\n",
    "plt.title('Blurred Image')\n",
    "plt.axis('off')\n",
    "\n",
    "#------------------------------------------------------------------\n",
    "\n",
    "plt.subplot(2,5,8)\n",
    "plt.imshow(sharpened_image)\n",
    "plt.title('Sharpened Image')\n",
    "plt.axis('off')\n",
    "\n",
    "#------------------------------------------------------------------\n",
    "\n",
    "plt.subplot(2,5,9)\n",
    "noisy = sampleimage2d + 0.4*sampleimage2d.std()*np.random.random(sampleimage2d.shape)\n",
    "med_denoised = ndimage.median_filter(noisy, 3)\n",
    "\n",
    "plt.imshow(med_denoised)\n",
    "plt.title('Median Filter Denoising')\n",
    "plt.axis('off')\n",
    "\n",
    "#------------------------------------------------------------------\n",
    "\n",
    "plt.subplot(2,5,10)\n",
    "sampleimage = df101train['Image Array'][727]\n",
    "plt.imshow(sampleimage)\n",
    "plt.title('Original Image')\n",
    "plt.axis('off')\n",
    "\n",
    "#--------------------------------------------------------------\n",
    "#plt.subplot(2,5,10)\n",
    "#im = np.zeros(sampleimage2d.shape)\n",
    "#im[64:-64, 64:-64] = 1\n",
    "#sx = ndimage.sobel(sampleimage2d, axis=0, mode='constant')\n",
    "#sy = ndimage.sobel(sampleimage2d, axis=1, mode='constant')\n",
    "#sob = np.hypot(sx, sy)\n",
    "\n",
    "#plt.imshow(sob)\n",
    "#plt.title('Sobel filter')\n",
    "#plt.axis('off')\n",
    "\n",
    "#------------------------------------------------------------------\n",
    "\n",
    "plt.tight_layout()\n",
    "plt.show()"
   ]
  },
  {
   "cell_type": "markdown",
   "metadata": {},
   "source": [
    "__Analysis:__\n",
    "\n",
    "Judging by the raw images, it appears that no observed image manipulation technique enhances the original image. These image manipulation techniques are declared by the user (e.g., \"rotate image 45 degrees\"), but perhaps other preprocessing models may yield more helpful componenents...\n",
    "\n",
    "---\n",
    "# 4. Data Preparation for Modeling\n",
    "\n",
    "Currently, images contain 3072 features (32 x 32 x RGB). Relatively speaking, this is a fairly manageable feature space to use as input data for our models. _However,_ when training a model on that feature space 50,500 times, the computations can quickly pile up. This is especially true for Artificial Neural Networks and other computationally-heavy models. As such, there is a lot of benefit to preprocessing the data via a __dimension-reduction technique.__\n",
    "\n",
    "## 4.1.-4.2. Which Dimensionality Reduction (\"DR\") Techniques to Use?\n",
    "\n",
    "The answer to this question, like answers for all good questions, is: _it depends_. Below are just some factors to consider:\n",
    "1. Is the data continuous & linear, or is it non-linear?\n",
    "    - Probably the most important decider in the decision tree of choosing a DR model. Using a linear DR model such as PCA - which performs its calculations through a Gaussian distribution - on non-linear data (e.g., text data) will yield unreliable components.\n",
    "        - __Good DR Models for Continuous Data:__ PCA, CCA, sometimes t-SNE\n",
    "        - __Good DR Models for Non-Linear Data:__ LDA, Isomap, kernel_PCA, UMAP, sometimes t-SNE\n",
    "    <br><br>\n",
    "2. How sparse is the data? How big is the dataset?\n",
    "    - There are some models that are specifically designed to handle sparse data, such as _Single Vector Decomposition (SVD)_ or _Latent Discriminant Analysis (LDA)_. For example, the latter model, LDA, focuses on the individual features themselves for each of the classes. This would prove unhelpful if (1) the combination of features provides strong explanatory power but not its individual parts, or (2) the feature space is gigantic. It is for reason (2) that SVD is used in large sparse text data feature spaces; LDA's analysis on individual features limits its suitability to smaller datasets.\n",
    "        - __Good DR Models for Large datasets/feature spaces:__ SVD, Locality Sensitivity Hashing\n",
    "        - __Good DR Models for Smaller datasets/feature spaces:__ LDA, CCA\n",
    "    <br> <br>\n",
    "3. How much explained variance are you willing to lose by the reduction?\n",
    "    - This is arguably the biggest benefit to using PCA: the feature space can be reduced down to only a handful of components, and yet PCA often retains over 80% of the explained variance. Other models, such as SVD, are terrible at retaining variance.\n",
    "    <br><br>\n",
    "4. How computationally heavy is the dimensionality-reduction model?\n",
    "    - Self-explanatory. Typically non-linear DR models take longer. This trade-off is always something to consider.\n",
    "        - __Good DR Models for Needing Low Computational Overhead:__ PCA\n",
    "        - __Bad DR Models for Needing Low Computational Overhead:__ Anything discriminant (LDA), anything requiring pair-wise calculations (CCA, Random Projections)...basically everything that's not PCA\n",
    "        \n",
    "---\n",
    "### DR Technique to use Here\n",
    "\n",
    "Given the above explanation, we will be using __PCA and t-SNE__. Image data does not expect a point of central tendency like how PCA does. However, again, PCA is widely used because it retains variance really well.  For t-SNE, which operates on a stochastic gradient descent algorithm, can look \"across\" the feature space for good components. With that said, our feature space size of 3072 is not nearly large enough to warrant the use of SVD or manifold learning models such as Isomap.\n",
    "\n",
    "To measure the effectiveness of these models, we will measure the variance and time to converge on a sample classifier model - the feed-forward __MLP Classifier.__ Those classifier's results will determine which DR technique is best suited for our dataset moving forward. Moreover, we will compare these classifier's results between CIFAR101 (large, multiclass) and CIFAR10 datasets (small, 10-class).\n",
    "\n",
    "---\n",
    "### Three Final Notes\n",
    "\n",
    "#### 4.2.1. Manual Feature Space Manipulation\n",
    "\n",
    "One easy way to cut down the feature space from 3072 to 1024 (32 x 32) is to put it in greyscale. Because the feature space is already relatively small, and because the dataset is so big, reducing the feature space in this manner is unnecessary - maybe even detrimental.\n",
    "\n",
    "#### 4.2.2. Use of MLP Classifier\n",
    "\n",
    "Feed forward networks are not meant to be used for image data. The linear nature of this neural network lends itself to tabular data as opposed to non-linear data (images, audio/video data, etc.). However, we are merely using it here as a quick check for which DR technique is best. MLP Classifier quickly can provide a baseline prediction for neural network models.\n",
    "\n",
    "#### 4.2.3. Final Preprocessing\n",
    "\n",
    "At this point in the project, we would be transforming our data in preparation to push it into models. However, CIFAR was generous enough to do most of the heavy-lifting for us: all image shapes are the same, all image resolutions are the same, the target variables are already numerically encoded, and the dataset is perfectly balanced. The only preprocessing left to do is scaling/normalization. This doesn't seem _that_ necessary given that all values range from (0,255). Given that normalization on numpy array vectors is more complicated than it should be, and given that it really doesn't help all that much, I can safely say that preprocessing is complete for this project."
   ]
  },
  {
   "cell_type": "code",
   "execution_count": 303,
   "metadata": {},
   "outputs": [],
   "source": [
    "# relevant imports\n",
    "import time\n",
    "from sklearn.pipeline import make_pipeline\n",
    "from sklearn.manifold import TSNE\n",
    "from sklearn.decomposition import PCA\n"
   ]
  },
  {
   "cell_type": "code",
   "execution_count": 306,
   "metadata": {},
   "outputs": [],
   "source": [
    "# declaring x's and y's\n",
    "# will use two separate classification columns\n",
    "\n",
    "X101train = df101train['Image Array']\n",
    "y101train = df101train[['Target Num', 'Superclass Num']]\n",
    "X101test = df101test['Image Array']\n",
    "y101test = df101test[['Target Num', 'Superclass Num']]\n",
    "\n",
    "X10train = df10_train['Image Array']\n",
    "y10train = df10_train['Target Labels']\n",
    "X10test = df10_test['Image Array']\n",
    "y10test = df10_test['Target Labels']\n"
   ]
  },
  {
   "cell_type": "code",
   "execution_count": 347,
   "metadata": {},
   "outputs": [],
   "source": [
    "# Setting up comprehensive scoring function\n",
    "\n",
    "# keeping these lists outside the function so I can add it as an optional parameter\n",
    "\n",
    "traininginputs = [X101train, X10train]\n",
    "\n",
    "list_of_outputs = [y101train['Target Num'], y101train['Superclass Num'],\n",
    "                   y101test['Target Num'], y101test['Superclass Num'],\n",
    "                   y10train, y10test]"
   ]
  },
  {
   "cell_type": "markdown",
   "metadata": {},
   "source": [
    "__A Note on our Modeling:__ Our CIFAR-101 dataset has two target variables - one for each class (e.g., bird, dolphin, tractor, airplane, etc.) and a second for a Superclass category (e.g., reptiles, aquatic animals, vehicles1, vehicles2, etc.).\n",
    "\n",
    "We __cannot__ determine scores for _both_ target variables at once. In other words, if `y101` is set to `df101[['Target Num', 'Superclass Num']]`, and we run `model.score(x101train, y101train)`, it will throw the following error: `ValueError: setting an array element with a sequence.`\n",
    "\n",
    "__To fix this:__ Normally, if there were two separate variables, we would simply train two different models, one for each variable. However, the two target variables here are interconnected - one is a superclass category, and the other is a subclass within that category.  In this case, what we need to do is to train the model on the subclass and then map the predicted class to the corresponding superclass. Not only does this achieve our goal of finding the superclass, but it does so without having to train and score a second model every time."
   ]
  },
  {
   "cell_type": "code",
   "execution_count": 360,
   "metadata": {},
   "outputs": [
    {
     "data": {
      "text/plain": [
       "[0, 1, 2, 3, 4, 5, 6, 7, 8]"
      ]
     },
     "execution_count": 360,
     "metadata": {},
     "output_type": "execute_result"
    }
   ],
   "source": [
    "list(range(9))"
   ]
  },
  {
   "cell_type": "code",
   "execution_count": 349,
   "metadata": {},
   "outputs": [
    {
     "ename": "SyntaxError",
     "evalue": "invalid syntax (<ipython-input-349-e577a026bff9>, line 11)",
     "output_type": "error",
     "traceback": [
      "\u001b[1;36m  File \u001b[1;32m\"<ipython-input-349-e577a026bff9>\"\u001b[1;36m, line \u001b[1;32m11\u001b[0m\n\u001b[1;33m    if str(testing_input) == str(X101test):\u001b[0m\n\u001b[1;37m                                          ^\u001b[0m\n\u001b[1;31mSyntaxError\u001b[0m\u001b[1;31m:\u001b[0m invalid syntax\n"
     ]
    }
   ],
   "source": [
    "import random\n",
    "\n",
    "def sample_wrong_predictions(model, xtrain, ytrain, xtest, ytest, num_of_picture_samples=3):\n",
    "    \n",
    "    \n",
    "    # setting initial prediction\n",
    "    model.fit(xtrain, ytrain)\n",
    "    ypred = model.predict(xtest) # for cifar 101 data, ypred will always fitting for class, NOT superclass!!!\n",
    "                             \n",
    "   # need to find non-matching items\n",
    "'''\n",
    "Setup of function: I want to find two samples from a given y-test (y10 or y101) that do NOT match\n",
    "two predicted values for the respective sample indicies.        \n",
    "'''\n",
    "        \n",
    "    wrongpredindex1 = []\n",
    "        \n",
    "        # can cut down here\n",
    "    for i in list(range(len(y_test))):\n",
    "        if y_test[i] != (ypred[i] & ypred[i+1]): # cheating way of getting two wrong samples\n",
    "            wrongpredindex1.append(i)\n",
    "        \n",
    "    randindx1 = random.sample(wrongpredindex1, num_of_picture_samples)\n",
    "    randindx2 = [i+1 for i in random randindx1]\n",
    "    \n",
    "    rangeadjusted = \n",
    "              \n",
    "    for i in list(range(num_of_picture_samples)):\n",
    "        \n",
    "        # getting sample array samples\n",
    "            \n",
    "        sampleactual = testdf.loc[testdf['Target Num'] == y_test[randindx1[i]]].sample(n=1)\n",
    "        samplewrongpred1 = testdf.loc[testdf['Target Num'] == ypred[randindx1[i]]].sample(n=1)\n",
    "        samplewrongpred2 = testdf.loc[testdf['Target Num'] == ypred[randindx2[1]]].sample(n=1)\n",
    "        \n",
    "        # using array samples for plotting\n",
    "        \n",
    "        plotsize = len(num_of_picture_samples)\n",
    "        \n",
    "        plt.subplot(plotsize,(plotsize*3),i)\n",
    "        plt.imshow(sampleactual['Image Array'][0])\n",
    "        plt.title('Actual Image:', testdf['Target Names'][0])\n",
    "            \n",
    "        plt.subplot(plotsize,(plotsize*3),i+1)\n",
    "        plt.imshow(samplewrongpred1)\n",
    "        plt.imshow(samplewrongpred1['Image Array'][0])\n",
    "        plt.title('Wrong Predicted Image1:', samplewrongpred1['Target Names'][0])\n",
    "            \n",
    "        plt.subplot(plotsize,(plotsize*3),i+2)\n",
    "        plt.imshow(samplewrongpred2)\n",
    "        plt.imshow(samplewrongpred2['Image Array'][0])\n",
    "        plt.title('Wrong Predicted Image2:', samplewrongpred2['Target Names'][0])\n",
    "            \n",
    "        plt.show()\n",
    "                \n",
    "            \n",
    "            \n",
    "                                            \n",
    "                                            \n",
    "            \n",
    "            \n",
    "            \n",
    "            \n",
    "            ytestactualsamples.append(ytestactualsamples[randomindex[i]])\n",
    "            \n",
    "            sampleactualpicture = X101test.loc[X101test['Target Num'] == sampleactual1, 'Image Array'].sample(n=1)\n",
    "            \n",
    "                                    \n",
    "        sample_prediction1 = [ypred[randomindex[0]], ypred[wrongpred2index[0]]]\n",
    "        sample_prediction2 = [ypred[randomindex[4]], ypred[randomindex[5]]]\n",
    "                                    \n",
    "        \n",
    "        # locates class num, maps to designated column of Superclass Num, gets first sample item\n",
    "        sampleactualpicture1 = X101test.loc[X101test['Target Num'] == sampleactual1, 'Image Array'].sample(n=1)\n",
    "        sampleactualpicture2 = X101test.loc[X101test['Target Num'] == sampleactual2, 'Image Array'].sample(n=1)\n",
    "        \n",
    "        samplepred1foractualpic1 = X101test.loc[X101test['Target Num'] == sample_prediction1[0], 'Image Array'].sample(n=1)\n",
    "        samplepred2foractualpic1 = X101test.loc[X101test['Target Num'] == sample_prediction1[1], 'Image Array'].sample(n=1)\n",
    "        \n",
    "        samplepred1foractualpic2 = X101test.loc[X101test['Target Num'] == sample_prediction2[0], 'Image Array'].sample(n=1)\n",
    "        samplepred2foractualpic2 = X101test.loc[X101test['Target Num'] == sample_prediction2[1], 'Image Array'].sample(n=1)\n",
    "        \n",
    "        \n",
    "\n",
    "    if str(testing_input) == str(X10test):\n",
    "        print('{} Model Accuracy Score on CIFAR-10 Class Labels is: {}%'.format(str(model),\n",
    "                                                                                round((model.score(y10test, \n",
    "                                                                                                   ypred)*100),2)))\n",
    "       \n",
    "        \n",
    "              \n",
    "        \n",
    "        \n",
    "               \n",
    "        \n",
    "               \n",
    "            \n",
    "            \n",
    "            \n",
    "    if str(testing_input) == str(X101test):\n",
    "        ypred_class = round((model.score(y101test['Target Num'], ypred)*100), 2)\n",
    "        \n",
    "        # locates class num, maps to designated column of Superclass Num, gets all values via .values\n",
    "        ypred_superclass = df101test.loc(df101test['Target Num'] == ypred_class)['Superclass Num'].values\n",
    "        \n",
    "        \n",
    "        print('{} Model Accuracy Score on CIFAR-101 Classes is: {}%'.format(str(model),\n",
    "                                                                                round(model.score(y101test, \n",
    "                                                                                                   ypred_class)*100),2))\n",
    "        \n",
    "        print('{} Model Accuracy Score on CIFAR-101 Superclass Categories is: {}%'.format(str(model),\n",
    "                                                                                round(model.score(y101test,\n",
    "                                                                                                  ypred_superclass)*100),2))\n",
    "    "
   ]
  },
  {
   "cell_type": "code",
   "execution_count": null,
   "metadata": {},
   "outputs": [],
   "source": [
    "def single_predict_example()"
   ]
  },
  {
   "cell_type": "code",
   "execution_count": 345,
   "metadata": {},
   "outputs": [],
   "source": [
    "\n",
    "\n",
    "def model_scoring(model, training_inputs=traininginputs):\n",
    "    \n",
    "    for innput in training_inputs:\n",
    "        if str(innput) == str(X10train):\n",
    "            model1 = model\n",
    "            model1.fit(X10train, y10train)\n",
    "            print('Training Score for {} on CIFAR-10 Class Labels is {}%'.format(str(model),\n",
    "                                                                                 round(model1.score(X10train, \n",
    "                                                                                                    y10train)*100),2))\n",
    "            ypred10 = model1.predict(X10test)\n",
    "            \n",
    "            print('{} Model Accuracy Score on CIFAR-10 Class Labels is: {}%'.format(str(model),\n",
    "                                                                                    round(model1.score(y10test, \n",
    "                                                                                                       ypred10)*100),2))\n",
    "    \n",
    "        if str(innput) == str(X101train):\n",
    "            model2 = model\n",
    "            # ********NOTE: Models ***CAN*** be fit to more than one class array!*********************************\n",
    "            \n",
    "            X101train[1] = X101train\n",
    "            model2.fit(X101train, y101train)\n",
    "            print('Training Score for {} on CIFAR-101 Classes is: {}%'.format(str(model), \n",
    "                                                                              round(model2.score(X101train,\n",
    "                                                                                                 y101train)*100),2))\n",
    "            ypred101 = model2.predict(X101test)         \n",
    "            print('{} Model Accuracy Score on CIFAR-101 Classes is: {}%'.format(str(model),\n",
    "                                                                                round(model2.score(y101test, \n",
    "                                                                                                   ypred101)*100),2))"
   ]
  },
  {
   "cell_type": "code",
   "execution_count": 346,
   "metadata": {},
   "outputs": [
    {
     "name": "stderr",
     "output_type": "stream",
     "text": [
      "C:\\Anaconda\\lib\\site-packages\\ipykernel_launcher.py:30: SettingWithCopyWarning: \n",
      "A value is trying to be set on a copy of a slice from a DataFrame\n",
      "\n",
      "See the caveats in the documentation: http://pandas.pydata.org/pandas-docs/stable/indexing.html#indexing-view-versus-copy\n"
     ]
    },
    {
     "ename": "ValueError",
     "evalue": "setting an array element with a sequence.",
     "output_type": "error",
     "traceback": [
      "\u001b[1;31m---------------------------------------------------------------------------\u001b[0m",
      "\u001b[1;31mValueError\u001b[0m                                Traceback (most recent call last)",
      "\u001b[1;32m<ipython-input-346-156902cf7c9b>\u001b[0m in \u001b[0;36m<module>\u001b[1;34m\u001b[0m\n\u001b[0;32m     14\u001b[0m \u001b[1;31m# running model and score:\u001b[0m\u001b[1;33m\u001b[0m\u001b[1;33m\u001b[0m\u001b[1;33m\u001b[0m\u001b[0m\n\u001b[0;32m     15\u001b[0m \u001b[1;33m\u001b[0m\u001b[0m\n\u001b[1;32m---> 16\u001b[1;33m \u001b[0mmodel_scoring\u001b[0m\u001b[1;33m(\u001b[0m\u001b[0mmlp\u001b[0m\u001b[1;33m,\u001b[0m \u001b[0mtraininginputs\u001b[0m\u001b[1;33m)\u001b[0m\u001b[1;33m\u001b[0m\u001b[1;33m\u001b[0m\u001b[0m\n\u001b[0m",
      "\u001b[1;32m<ipython-input-345-cd3d1328fe7e>\u001b[0m in \u001b[0;36mmodel_scoring\u001b[1;34m(model, training_inputs)\u001b[0m\n\u001b[0;32m     29\u001b[0m \u001b[1;33m\u001b[0m\u001b[0m\n\u001b[0;32m     30\u001b[0m             \u001b[0mX101train\u001b[0m\u001b[1;33m[\u001b[0m\u001b[1;36m1\u001b[0m\u001b[1;33m]\u001b[0m \u001b[1;33m=\u001b[0m \u001b[0mX101train\u001b[0m\u001b[1;33m\u001b[0m\u001b[1;33m\u001b[0m\u001b[0m\n\u001b[1;32m---> 31\u001b[1;33m             \u001b[0mmodel2\u001b[0m\u001b[1;33m.\u001b[0m\u001b[0mfit\u001b[0m\u001b[1;33m(\u001b[0m\u001b[0mX101train\u001b[0m\u001b[1;33m,\u001b[0m \u001b[0my101train\u001b[0m\u001b[1;33m)\u001b[0m\u001b[1;33m\u001b[0m\u001b[1;33m\u001b[0m\u001b[0m\n\u001b[0m\u001b[0;32m     32\u001b[0m             print('Training Score for {} on CIFAR-101 Classes is: {}%'.format(str(model), \n\u001b[0;32m     33\u001b[0m                                                                               round(model2.score(X101train,\n",
      "\u001b[1;32mC:\\Anaconda\\lib\\site-packages\\sklearn\\neural_network\\multilayer_perceptron.py\u001b[0m in \u001b[0;36mfit\u001b[1;34m(self, X, y)\u001b[0m\n\u001b[0;32m    975\u001b[0m         \"\"\"\n\u001b[0;32m    976\u001b[0m         return self._fit(X, y, incremental=(self.warm_start and\n\u001b[1;32m--> 977\u001b[1;33m                                             hasattr(self, \"classes_\")))\n\u001b[0m\u001b[0;32m    978\u001b[0m \u001b[1;33m\u001b[0m\u001b[0m\n\u001b[0;32m    979\u001b[0m     \u001b[1;33m@\u001b[0m\u001b[0mproperty\u001b[0m\u001b[1;33m\u001b[0m\u001b[1;33m\u001b[0m\u001b[0m\n",
      "\u001b[1;32mC:\\Anaconda\\lib\\site-packages\\sklearn\\neural_network\\multilayer_perceptron.py\u001b[0m in \u001b[0;36m_fit\u001b[1;34m(self, X, y, incremental)\u001b[0m\n\u001b[0;32m    322\u001b[0m                              hidden_layer_sizes)\n\u001b[0;32m    323\u001b[0m \u001b[1;33m\u001b[0m\u001b[0m\n\u001b[1;32m--> 324\u001b[1;33m         \u001b[0mX\u001b[0m\u001b[1;33m,\u001b[0m \u001b[0my\u001b[0m \u001b[1;33m=\u001b[0m \u001b[0mself\u001b[0m\u001b[1;33m.\u001b[0m\u001b[0m_validate_input\u001b[0m\u001b[1;33m(\u001b[0m\u001b[0mX\u001b[0m\u001b[1;33m,\u001b[0m \u001b[0my\u001b[0m\u001b[1;33m,\u001b[0m \u001b[0mincremental\u001b[0m\u001b[1;33m)\u001b[0m\u001b[1;33m\u001b[0m\u001b[1;33m\u001b[0m\u001b[0m\n\u001b[0m\u001b[0;32m    325\u001b[0m         \u001b[0mn_samples\u001b[0m\u001b[1;33m,\u001b[0m \u001b[0mn_features\u001b[0m \u001b[1;33m=\u001b[0m \u001b[0mX\u001b[0m\u001b[1;33m.\u001b[0m\u001b[0mshape\u001b[0m\u001b[1;33m\u001b[0m\u001b[1;33m\u001b[0m\u001b[0m\n\u001b[0;32m    326\u001b[0m \u001b[1;33m\u001b[0m\u001b[0m\n",
      "\u001b[1;32mC:\\Anaconda\\lib\\site-packages\\sklearn\\neural_network\\multilayer_perceptron.py\u001b[0m in \u001b[0;36m_validate_input\u001b[1;34m(self, X, y, incremental)\u001b[0m\n\u001b[0;32m    912\u001b[0m     \u001b[1;32mdef\u001b[0m \u001b[0m_validate_input\u001b[0m\u001b[1;33m(\u001b[0m\u001b[0mself\u001b[0m\u001b[1;33m,\u001b[0m \u001b[0mX\u001b[0m\u001b[1;33m,\u001b[0m \u001b[0my\u001b[0m\u001b[1;33m,\u001b[0m \u001b[0mincremental\u001b[0m\u001b[1;33m)\u001b[0m\u001b[1;33m:\u001b[0m\u001b[1;33m\u001b[0m\u001b[1;33m\u001b[0m\u001b[0m\n\u001b[0;32m    913\u001b[0m         X, y = check_X_y(X, y, accept_sparse=['csr', 'csc', 'coo'],\n\u001b[1;32m--> 914\u001b[1;33m                          multi_output=True)\n\u001b[0m\u001b[0;32m    915\u001b[0m         \u001b[1;32mif\u001b[0m \u001b[0my\u001b[0m\u001b[1;33m.\u001b[0m\u001b[0mndim\u001b[0m \u001b[1;33m==\u001b[0m \u001b[1;36m2\u001b[0m \u001b[1;32mand\u001b[0m \u001b[0my\u001b[0m\u001b[1;33m.\u001b[0m\u001b[0mshape\u001b[0m\u001b[1;33m[\u001b[0m\u001b[1;36m1\u001b[0m\u001b[1;33m]\u001b[0m \u001b[1;33m==\u001b[0m \u001b[1;36m1\u001b[0m\u001b[1;33m:\u001b[0m\u001b[1;33m\u001b[0m\u001b[1;33m\u001b[0m\u001b[0m\n\u001b[0;32m    916\u001b[0m             \u001b[0my\u001b[0m \u001b[1;33m=\u001b[0m \u001b[0mcolumn_or_1d\u001b[0m\u001b[1;33m(\u001b[0m\u001b[0my\u001b[0m\u001b[1;33m,\u001b[0m \u001b[0mwarn\u001b[0m\u001b[1;33m=\u001b[0m\u001b[1;32mTrue\u001b[0m\u001b[1;33m)\u001b[0m\u001b[1;33m\u001b[0m\u001b[1;33m\u001b[0m\u001b[0m\n",
      "\u001b[1;32mC:\\Anaconda\\lib\\site-packages\\sklearn\\utils\\validation.py\u001b[0m in \u001b[0;36mcheck_X_y\u001b[1;34m(X, y, accept_sparse, accept_large_sparse, dtype, order, copy, force_all_finite, ensure_2d, allow_nd, multi_output, ensure_min_samples, ensure_min_features, y_numeric, warn_on_dtype, estimator)\u001b[0m\n\u001b[0;32m    754\u001b[0m                     \u001b[0mensure_min_features\u001b[0m\u001b[1;33m=\u001b[0m\u001b[0mensure_min_features\u001b[0m\u001b[1;33m,\u001b[0m\u001b[1;33m\u001b[0m\u001b[1;33m\u001b[0m\u001b[0m\n\u001b[0;32m    755\u001b[0m                     \u001b[0mwarn_on_dtype\u001b[0m\u001b[1;33m=\u001b[0m\u001b[0mwarn_on_dtype\u001b[0m\u001b[1;33m,\u001b[0m\u001b[1;33m\u001b[0m\u001b[1;33m\u001b[0m\u001b[0m\n\u001b[1;32m--> 756\u001b[1;33m                     estimator=estimator)\n\u001b[0m\u001b[0;32m    757\u001b[0m     \u001b[1;32mif\u001b[0m \u001b[0mmulti_output\u001b[0m\u001b[1;33m:\u001b[0m\u001b[1;33m\u001b[0m\u001b[1;33m\u001b[0m\u001b[0m\n\u001b[0;32m    758\u001b[0m         y = check_array(y, 'csr', force_all_finite=True, ensure_2d=False,\n",
      "\u001b[1;32mC:\\Anaconda\\lib\\site-packages\\sklearn\\utils\\validation.py\u001b[0m in \u001b[0;36mcheck_array\u001b[1;34m(array, accept_sparse, accept_large_sparse, dtype, order, copy, force_all_finite, ensure_2d, allow_nd, ensure_min_samples, ensure_min_features, warn_on_dtype, estimator)\u001b[0m\n\u001b[0;32m    525\u001b[0m             \u001b[1;32mtry\u001b[0m\u001b[1;33m:\u001b[0m\u001b[1;33m\u001b[0m\u001b[1;33m\u001b[0m\u001b[0m\n\u001b[0;32m    526\u001b[0m                 \u001b[0mwarnings\u001b[0m\u001b[1;33m.\u001b[0m\u001b[0msimplefilter\u001b[0m\u001b[1;33m(\u001b[0m\u001b[1;34m'error'\u001b[0m\u001b[1;33m,\u001b[0m \u001b[0mComplexWarning\u001b[0m\u001b[1;33m)\u001b[0m\u001b[1;33m\u001b[0m\u001b[1;33m\u001b[0m\u001b[0m\n\u001b[1;32m--> 527\u001b[1;33m                 \u001b[0marray\u001b[0m \u001b[1;33m=\u001b[0m \u001b[0mnp\u001b[0m\u001b[1;33m.\u001b[0m\u001b[0masarray\u001b[0m\u001b[1;33m(\u001b[0m\u001b[0marray\u001b[0m\u001b[1;33m,\u001b[0m \u001b[0mdtype\u001b[0m\u001b[1;33m=\u001b[0m\u001b[0mdtype\u001b[0m\u001b[1;33m,\u001b[0m \u001b[0morder\u001b[0m\u001b[1;33m=\u001b[0m\u001b[0morder\u001b[0m\u001b[1;33m)\u001b[0m\u001b[1;33m\u001b[0m\u001b[1;33m\u001b[0m\u001b[0m\n\u001b[0m\u001b[0;32m    528\u001b[0m             \u001b[1;32mexcept\u001b[0m \u001b[0mComplexWarning\u001b[0m\u001b[1;33m:\u001b[0m\u001b[1;33m\u001b[0m\u001b[1;33m\u001b[0m\u001b[0m\n\u001b[0;32m    529\u001b[0m                 raise ValueError(\"Complex data not supported\\n\"\n",
      "\u001b[1;32mC:\\Anaconda\\lib\\site-packages\\numpy\\core\\numeric.py\u001b[0m in \u001b[0;36masarray\u001b[1;34m(a, dtype, order)\u001b[0m\n\u001b[0;32m    536\u001b[0m \u001b[1;33m\u001b[0m\u001b[0m\n\u001b[0;32m    537\u001b[0m     \"\"\"\n\u001b[1;32m--> 538\u001b[1;33m     \u001b[1;32mreturn\u001b[0m \u001b[0marray\u001b[0m\u001b[1;33m(\u001b[0m\u001b[0ma\u001b[0m\u001b[1;33m,\u001b[0m \u001b[0mdtype\u001b[0m\u001b[1;33m,\u001b[0m \u001b[0mcopy\u001b[0m\u001b[1;33m=\u001b[0m\u001b[1;32mFalse\u001b[0m\u001b[1;33m,\u001b[0m \u001b[0morder\u001b[0m\u001b[1;33m=\u001b[0m\u001b[0morder\u001b[0m\u001b[1;33m)\u001b[0m\u001b[1;33m\u001b[0m\u001b[1;33m\u001b[0m\u001b[0m\n\u001b[0m\u001b[0;32m    539\u001b[0m \u001b[1;33m\u001b[0m\u001b[0m\n\u001b[0;32m    540\u001b[0m \u001b[1;33m\u001b[0m\u001b[0m\n",
      "\u001b[1;31mValueError\u001b[0m: setting an array element with a sequence."
     ]
    }
   ],
   "source": [
    "# setting MLP Classifier, running raw data through it, then comparing with PCA'ed data\n",
    "# Again, this model is for illustrative purposes: it is not a serious contender for \"best image data model\"\n",
    "\n",
    "#import\n",
    "from sklearn.neural_network import MLPClassifier\n",
    "\n",
    "#instantiation\n",
    "# upped max_iter, shrunk hidden layers, and set verbose to True. Everything else default\n",
    "\n",
    "mlp = MLPClassifier(activation='relu', alpha=1e-05, batch_size='auto',\n",
    "                    hidden_layer_sizes=(20,15,15), max_iter=500, random_state=444,\n",
    "                    solver='adam', verbose=True)\n",
    "\n",
    "# running model and score:\n",
    "\n",
    "model_scoring(mlp, traininginputs)"
   ]
  },
  {
   "cell_type": "code",
   "execution_count": 344,
   "metadata": {},
   "outputs": [
    {
     "name": "stdout",
     "output_type": "stream",
     "text": [
      "(55000,)\n"
     ]
    },
    {
     "data": {
      "text/plain": [
       "(55000, 2)"
      ]
     },
     "execution_count": 344,
     "metadata": {},
     "output_type": "execute_result"
    }
   ],
   "source": [
    "print(X101train.shape)\n",
    "y101train.shape"
   ]
  },
  {
   "cell_type": "code",
   "execution_count": 309,
   "metadata": {},
   "outputs": [],
   "source": [
    "# PCA Transformation\n",
    "\n",
    "'''\n",
    "We want to find the best tradeoff between lost variance and ease of computation, \n",
    "and so we want to find the lowest number of dimensions that retains variance up to a designated amount\n",
    "'''\n",
    "# idea taken from Kaggle user Hamish Dickson\n",
    "\n",
    "def best_PCA_fit(fittingdata, minimumretainedvariance=0.857): # recommendation of retaining variance for ~6 out of 7 items\n",
    "    \n",
    "    # model instantiation\n",
    "    pcacheck = PCA()\n",
    "    pcacheck.fit(fittingdata)\n",
    "    cumulativesum = np.cumsum(pcacheck.explained_variance_ratio_)\n",
    "    \n",
    "    num_dimensions = np.argmax(cumulativesum >= minimumretainedvariance) + 1 # gotta have at least 1 dimension!\n",
    "    \n",
    "    return num_dimensions"
   ]
  },
  {
   "cell_type": "code",
   "execution_count": null,
   "metadata": {},
   "outputs": [],
   "source": [
    "The objective here is going to be to reduce the number of dimensions of the image, but before we do that we need to decide what we want to reduce it to. \n",
    "To do that we're going to try and find the number of dimensions that keeps 95% of the variance of the original images.\n",
    "\n",
    "pca_dims = PCA()\n",
    "pca_dims.fit(X_train)\n",
    "cumsum = np.cumsum(pca_dims.explained_variance_ratio_)\n",
    "d = np.argmax(cumsum >= 0.95) + 1"
   ]
  },
  {
   "cell_type": "code",
   "execution_count": null,
   "metadata": {},
   "outputs": [],
   "source": [
    "https://www.analyticsvidhya.com/blog/2018/03/comprehensive-collection-deep-learning-datasets/\n",
    "    \n",
    "    sklearn MLP (deep feed-forward)\n",
    "    convolutional \n",
    "    recurrent\n",
    "    \n",
    "    https://www.kaggle.com/hamishdickson/preprocessing-images-with-dimensionality-reduction\n",
    "    \n",
    "    \n",
    "    https://idyll.pub/post/dimensionality-reduction-293e465c2a3443e8941b016d/\n",
    "    \n",
    "    # you need to do unsupervised learning ---- look under the \"clustering\"\n",
    "    # section to see clustering of images, and sampling the clustering\n",
    "    #spectral clustering is good for image clustering as well....\n",
    "    \n",
    "    https://www.datacamp.com/community/tutorials/machine-learning-python\n",
    "    \n",
    "# Import matplotlib\n",
    "import matplotlib.pyplot as plt\n",
    "\n",
    "# Assign the predicted values to `predicted`\n",
    "predicted = svc_model.predict(X_test)\n",
    "\n",
    "# Zip together the `images_test` and `predicted` values in `images_and_predictions`\n",
    "images_and_predictions = list(zip(images_test, predicted))\n",
    "\n",
    "# For the first 4 elements in `images_and_predictions`\n",
    "for index, (image, prediction) in enumerate(images_and_predictions[:4]):\n",
    "    # Initialize subplots in a grid of 1 by 4 at positions i+1\n",
    "    plt.subplot(1, 4, index + 1)\n",
    "    # Don't show axes\n",
    "    plt.axis('off')\n",
    "    # Display images in all subplots in the grid\n",
    "    plt.imshow(image, cmap=plt.cm.gray_r, interpolation='nearest')\n",
    "    # Add a title to the plot\n",
    "    plt.title('Predicted: ' + str(prediction))\n",
    "\n",
    "# Show the plot\n",
    "plt.show()"
   ]
  },
  {
   "cell_type": "code",
   "execution_count": null,
   "metadata": {},
   "outputs": [],
   "source": [
    "# more visualization - look into: isomap, lle, t-sne, kernel_PCA\n",
    "\n",
    "\n",
    "# Import `Isomap()`\n",
    "from sklearn.manifold import Isomap\n",
    "\n",
    "# Create an isomap and fit the `digits` data to it\n",
    "X_iso = Isomap(n_neighbors=10).fit_transform(X_train)\n",
    "\n",
    "# Compute cluster centers and predict cluster index for each sample\n",
    "clusters = clf.fit_predict(X_train)\n",
    "\n",
    "# Create a plot with subplots in a grid of 1X2\n",
    "fig, ax = plt.subplots(1, 2, figsize=(8, 4))\n",
    "\n",
    "# Adjust layout\n",
    "fig.suptitle('Predicted Versus Training Labels', fontsize=14, fontweight='bold')\n",
    "fig.subplots_adjust(top=0.85)\n",
    "\n",
    "# Add scatterplots to the subplots \n",
    "ax[0].scatter(X_iso[:, 0], X_iso[:, 1], c=clusters)\n",
    "ax[0].set_title('Predicted Training Labels')\n",
    "ax[1].scatter(X_iso[:, 0], X_iso[:, 1], c=y_train)\n",
    "ax[1].set_title('Actual Training Labels')\n",
    "\n",
    "# Show the plots\n",
    "plt.show()\n",
    "\n",
    "https://github.com/CShorten/KaggleDogBreedChallenge/blob/master/DogBreed_BinaryClassification.ipynb"
   ]
  }
 ],
 "metadata": {
  "kernelspec": {
   "display_name": "Python 3",
   "language": "python",
   "name": "python3"
  },
  "language_info": {
   "codemirror_mode": {
    "name": "ipython",
    "version": 3
   },
   "file_extension": ".py",
   "mimetype": "text/x-python",
   "name": "python",
   "nbconvert_exporter": "python",
   "pygments_lexer": "ipython3",
   "version": "3.7.1"
  }
 },
 "nbformat": 4,
 "nbformat_minor": 2
}
