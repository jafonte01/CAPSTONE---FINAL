{
 "cells": [
  {
   "cell_type": "code",
   "execution_count": null,
   "metadata": {},
   "outputs": [],
   "source": [
    "# 1. Accuracy Scoring - making it for general use!\n",
    "\n",
    "def model_scoring(model, xtrain, ytrain, xtest, ytest, datasetname=['CIFAR-10', 'CIFAR-110']):\n",
    "    \n",
    "        time_start = time.time()\n",
    "        model.fit(xtrain, ytrain)\n",
    "        print('Training Score for {} on {} Class Labels is {}%'.format(str(model), datasetname,\n",
    "                                                                             round(model.history(xtrain, \n",
    "                                                                                                  ytrain)*100),2))\n",
    "        ypred = model.predict(xtest)\n",
    "        yacc = round((model.score(ytest, ypred)*100),2)\n",
    "            \n",
    "        print('{} Model Accuracy Score on {} Class Labels is: {}%'.format(str(model), y10acc))\n",
    "                                                                                    \n",
    "        total_time = time.time()-time_start\n",
    "            \n",
    "        return ypred, total_time, yacc"
   ]
  },
  {
   "cell_type": "code",
   "execution_count": null,
   "metadata": {},
   "outputs": [],
   "source": [
    "# 2. Plot confusion matrix\n",
    "\n",
    "from sklearn.metrics import confusion_matrix\n",
    "import itertools\n",
    "\n",
    "def plot_confusion_matrix(ytest, ypred,classes=range(10),\n",
    "                          normalize=False,\n",
    "                          title='Confusion matrix',\n",
    "                          cmap=plt.cm.get_cmap('Blues')):\n",
    "    \"\"\"\n",
    "    This function prints and plots the confusion matrix.\n",
    "    Normalization can be applied by setting `normalize=True`.\n",
    "    \"\"\"\n",
    "    \n",
    "    cm = confusion_matrix(ytest, ypred)                       \n",
    "                          \n",
    "    plt.imshow(cm, interpolation='nearest', cmap=cmap)\n",
    "    plt.title(title)\n",
    "    plt.colorbar()\n",
    "    tick_marks = np.arange(len(classes))\n",
    "    plt.xticks(tick_marks, classes, rotation=45)\n",
    "    plt.yticks(tick_marks, classes)\n",
    "\n",
    "    if normalize:\n",
    "        cm = cm.astype('float') / cm.sum(axis=1)[:, np.newaxis]\n",
    "\n",
    "    thresh = cm.max() / 2.\n",
    "    for i, j in itertools.product(range(cm.shape[0]), range(cm.shape[1])):\n",
    "        plt.text(j, i, cm[i, j],\n",
    "                 horizontalalignment=\"center\",\n",
    "                 color=\"white\" if cm[i, j] > thresh else \"black\")\n",
    "\n",
    "    plt.tight_layout()\n",
    "    plt.ylabel('True label')\n",
    "    plt.xlabel('Predicted label')\n",
    "    plt.show()\n",
    "                          "
   ]
  },
  {
   "cell_type": "code",
   "execution_count": null,
   "metadata": {},
   "outputs": [],
   "source": [
    "# As part of this section ------ Setting up x and y...again\n",
    "\n",
    "# setting up x's\n",
    "# these are set - commented out as just for reference\n",
    "#x10train and x110train = X10trainflatagain.astype(float) /=255\n",
    "#x10test and x110test = X110trainflatagain.astype(float) /=255\n",
    "\n",
    "# PCA versions of X\n",
    "pca=PCA(n_components=59)\n",
    "X10reducedtrain = pca.fit_transform(x10train)\n",
    "X10reducedtest = pca.fit_transform(x10test)\n",
    "\n",
    "pca=PCA(n_components=51)\n",
    "X110reducedtrain = pca.fit_transform(x110train)\n",
    "X110reducedtest = pca.fit_transform(x110test)\n",
    "\n",
    "#-------------------------------------------------------\n",
    "\n",
    "# setting up y's\n",
    "y10train = df10_train['Target Labels']\n",
    "y10test = df10_test['Target Labels']\n",
    "\n",
    "y110train = df110train['Target Num']\n",
    "y110test = df110test['Target Num']\n",
    "\n",
    "# going to use it if I need it, but if the model works without it, then in my opinion that's fine too.\n",
    "ytrain110_classlabel = keras.utils.to_categorical(y110train, 110) # 110 classes, excluding superclass column!\n",
    "ytest110_classlabel = keras.utils.to_categorical(y110test, 110)  "
   ]
  },
  {
   "cell_type": "code",
   "execution_count": null,
   "metadata": {},
   "outputs": [],
   "source": []
  },
  {
   "cell_type": "code",
   "execution_count": null,
   "metadata": {},
   "outputs": [],
   "source": []
  },
  {
   "cell_type": "code",
   "execution_count": null,
   "metadata": {},
   "outputs": [],
   "source": []
  },
  {
   "cell_type": "code",
   "execution_count": null,
   "metadata": {},
   "outputs": [],
   "source": []
  },
  {
   "cell_type": "code",
   "execution_count": null,
   "metadata": {},
   "outputs": [],
   "source": []
  },
  {
   "cell_type": "code",
   "execution_count": null,
   "metadata": {},
   "outputs": [],
   "source": []
  }
 ],
 "metadata": {
  "kernelspec": {
   "display_name": "Python 3",
   "language": "python",
   "name": "python3"
  },
  "language_info": {
   "codemirror_mode": {
    "name": "ipython",
    "version": 3
   },
   "file_extension": ".py",
   "mimetype": "text/x-python",
   "name": "python",
   "nbconvert_exporter": "python",
   "pygments_lexer": "ipython3",
   "version": "3.7.1"
  }
 },
 "nbformat": 4,
 "nbformat_minor": 2
}
